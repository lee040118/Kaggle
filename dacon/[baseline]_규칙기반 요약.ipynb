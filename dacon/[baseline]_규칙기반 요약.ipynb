{
 "cells": [
  {
   "cell_type": "markdown",
   "metadata": {},
   "source": [
    "# 사용 패키지"
   ]
  },
  {
   "cell_type": "code",
   "execution_count": 8,
   "metadata": {},
   "outputs": [],
   "source": [
    "import pandas as pd\n",
    "import numpy as np\n",
    "import json\n",
    "from tqdm.auto import tqdm"
   ]
  },
  {
   "cell_type": "markdown",
   "metadata": {},
   "source": [
    "# 데이터 로드"
   ]
  },
  {
   "cell_type": "code",
   "execution_count": 3,
   "metadata": {},
   "outputs": [],
   "source": [
    "with open('data/new_test.jsonl', \"r\", encoding=\"utf-8\") as f:\n",
    "    jsonl = list(f)\n",
    "\n",
    "test_data = []\n",
    "for json_str in jsonl:\n",
    "    test_data.append(json.loads(json_str))\n",
    "    \n",
    "submission = pd.read_csv('data/new_sample_submission.csv')"
   ]
  },
  {
   "cell_type": "code",
   "execution_count": 20,
   "metadata": {
    "tags": []
   },
   "outputs": [
    {
     "data": {
      "text/plain": [
       "7"
      ]
     },
     "execution_count": 20,
     "metadata": {},
     "output_type": "execute_result"
    }
   ],
   "source": [
    "test_data[6555]['article_original']"
   ]
  },
  {
   "cell_type": "markdown",
   "metadata": {},
   "source": [
    "## 요약문 생성 및 제출\n",
    "\n",
    "자연어 생성 모델을 베이스라인으로 제공하기에 장시간의 학습시간을 필요로 하여 간단한 규칙기반 요약문 생성하였습니다.\n",
    "\n",
    "BART, GPT 등 자연어 생성 모델을 활용을 추천드리고 베이스라인은 데이터로드 부터 제출하는 과정의 용도로 참고해주시기 바랍니다."
   ]
  },
  {
   "cell_type": "code",
   "execution_count": 27,
   "metadata": {},
   "outputs": [
    {
     "data": {
      "application/vnd.jupyter.widget-view+json": {
       "model_id": "de5ceb10391143a2b88e563b4f82df12",
       "version_major": 2,
       "version_minor": 0
      },
      "text/plain": [
       "  0%|          | 0/6596 [00:00<?, ?it/s]"
      ]
     },
     "metadata": {},
     "output_type": "display_data"
    }
   ],
   "source": [
    "summary = ''\n",
    "for data in tqdm(test_data):\n",
    "    did = int(data['id'])\n",
    "    tmp = len(data['article_original'])\n",
    "    if tmp == 1: summary = data['article_original'][0]\n",
    "    elif tmp == 2: summary = data['article_original'][0] + data['article_original'][1]\n",
    "    else: summary = data['article_original'][0] + data['article_original'][1] + data['article_original'][2]\n",
    "    idx = submission[submission['id']==did].index\n",
    "    submission.loc[idx, 'summary'] = summary"
   ]
  },
  {
   "cell_type": "code",
   "execution_count": 28,
   "metadata": {},
   "outputs": [
    {
     "data": {
      "text/plain": [
       "'이재용 삼성전자 부회장이 21일 오전 경기 화성시 현대차 남양기술연구소를 방문했다.지난 5월 정의선 현대차그룹 수석부회장이 삼성SDI 천안 사업장을 찾은 데 대한 답방 성격이다.이 부회장과 정 수석부회장의 5월 회동은 기존 리튬이온 배터리의 단점을 보완하고 전기차 주행거리를 획기적으로 늘릴 수 있는 전고체 배터리 관련 논의를 중심으로 이뤄졌다.'"
      ]
     },
     "execution_count": 28,
     "metadata": {},
     "output_type": "execute_result"
    }
   ],
   "source": [
    "submission.loc[4159, 'summary']"
   ]
  },
  {
   "cell_type": "code",
   "execution_count": 29,
   "metadata": {},
   "outputs": [],
   "source": [
    "submission.to_csv('baseline.csv', index=False)"
   ]
  }
 ],
 "metadata": {
  "kernelspec": {
   "display_name": "Python 3 (ipykernel)",
   "language": "python",
   "name": "python3"
  },
  "language_info": {
   "codemirror_mode": {
    "name": "ipython",
    "version": 3
   },
   "file_extension": ".py",
   "mimetype": "text/x-python",
   "name": "python",
   "nbconvert_exporter": "python",
   "pygments_lexer": "ipython3",
   "version": "3.8.5"
  }
 },
 "nbformat": 4,
 "nbformat_minor": 4
}
