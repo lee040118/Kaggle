{
 "cells": [
  {
   "cell_type": "code",
   "execution_count": 1,
   "metadata": {
    "tags": []
   },
   "outputs": [],
   "source": [
    "import pandas as pd\n",
    "import numpy as np\n",
    "\n",
    "train = pd.read_csv(\"/USER/kaggle/ventilator/data/train.csv\")\n",
    "test = pd.read_csv(\"/USER/kaggle/ventilator/data/test.csv\")\n",
    "submission = pd.read_csv(\"/USER/kaggle/ventilator/data/sample_submission.csv\")\n",
    "train\n",
    "\n",
    "\n",
    "features = [\"R\", \"C\", \"time_step\", \"u_in\", \"u_out\"]\n",
    "target = train[\"pressure\"]"
   ]
  },
  {
   "cell_type": "code",
   "execution_count": 2,
   "metadata": {},
   "outputs": [],
   "source": [
    "# rewritten calculation of lag features from this notebook: https://www.kaggle.com/patrick0302/add-lag-u-in-as-new-feat\n",
    "# some of ideas from this notebook: https://www.kaggle.com/mst8823/google-brain-lightgbm-baseline\n",
    "train['last_value_u_in'] = train.groupby('breath_id')['u_in'].transform('last')\n",
    "train['u_in_lag1'] = train.groupby('breath_id')['u_in'].shift(1)\n",
    "train['u_out_lag1'] = train.groupby('breath_id')['u_out'].shift(1)\n",
    "train['u_in_lag_back1'] = train.groupby('breath_id')['u_in'].shift(-1)\n",
    "train['u_out_lag_back1'] = train.groupby('breath_id')['u_out'].shift(-1)\n",
    "train['u_in_lag2'] = train.groupby('breath_id')['u_in'].shift(2)\n",
    "train['u_out_lag2'] = train.groupby('breath_id')['u_out'].shift(2)\n",
    "train['u_in_lag_back2'] = train.groupby('breath_id')['u_in'].shift(-2)\n",
    "train['u_out_lag_back2'] = train.groupby('breath_id')['u_out'].shift(-2)\n",
    "train = train.fillna(0)\n",
    "\n",
    "\n",
    "\n",
    "\n",
    "# max value of u_in and u_out for each breath\n",
    "train['breath_id__u_in__max'] = train.groupby(['breath_id'])['u_in'].transform('max')\n",
    "train['breath_id__u_out__max'] = train.groupby(['breath_id'])['u_out'].transform('max')\n",
    "\n",
    "\n",
    "train['breath_id__u_in__min'] = train.groupby(['breath_id'])['u_in'].transform('min')\n",
    "train['breath_id__u_out__min'] = train.groupby(['breath_id'])['u_out'].transform('min')\n",
    "\n",
    "\n",
    "# difference between consequitive values\n",
    "train['R__C'] = train[\"R\"].astype(str) + '__' + train[\"C\"].astype(str)\n",
    "train['u_in_diff1'] = train['u_in'] - train['u_in_lag1']\n",
    "train['u_out_diff1'] = train['u_out'] - train['u_out_lag1']\n",
    "train['u_in_diff2'] = train['u_in'] - train['u_in_lag2']\n",
    "train['u_out_diff2'] = train['u_out'] - train['u_out_lag2']\n",
    "# from here: https://www.kaggle.com/yasufuminakama/ventilator-pressure-lstm-starter\n",
    "train.loc[train['time_step'] == 0, 'u_in_diff'] = 0\n",
    "train.loc[train['time_step'] == 0, 'u_out_diff'] = 0\n",
    "\n",
    "# difference between the current value of u_in and the max value within the breath\n",
    "train['breath_id__u_in__diffmax'] = train.groupby(['breath_id'])['u_in'].transform('max') - train['u_in']\n",
    "train['breath_id__u_in__diffmean'] = train.groupby(['breath_id'])['u_in'].transform('mean') - train['u_in']\n",
    "\n",
    "# OHE\n",
    "train = train.merge(pd.get_dummies(train['R'], prefix='R'), left_index=True, right_index=True).drop(['R'], axis=1)\n",
    "train = train.merge(pd.get_dummies(train['C'], prefix='C'), left_index=True, right_index=True).drop(['C'], axis=1)\n",
    "train = train.merge(pd.get_dummies(train['R__C'], prefix='R__C'), left_index=True, right_index=True).drop(['R__C'], axis=1)\n",
    "\n",
    "# https://www.kaggle.com/c/ventilator-pressure-prediction/discussion/273974\n",
    "train['u_in_cumsum'] = train.groupby(['breath_id'])['u_in'].cumsum()\n",
    "train['time_step_cumsum'] = train.groupby(['breath_id'])['time_step'].cumsum()\n",
    "\n",
    "\n",
    "# all the same for the test data\n",
    "test['last_value_u_in'] = test.groupby('breath_id')['u_in'].transform('last')\n",
    "test['u_in_lag1'] = test.groupby('breath_id')['u_in'].shift(1)\n",
    "test['u_out_lag1'] = test.groupby('breath_id')['u_out'].shift(1)\n",
    "test['u_in_lag_back1'] = test.groupby('breath_id')['u_in'].shift(-1)\n",
    "test['u_out_lag_back1'] = test.groupby('breath_id')['u_out'].shift(-1)\n",
    "test['u_in_lag2'] = test.groupby('breath_id')['u_in'].shift(2)\n",
    "test['u_out_lag2'] = test.groupby('breath_id')['u_out'].shift(2)\n",
    "test['u_in_lag_back2'] = test.groupby('breath_id')['u_in'].shift(-2)\n",
    "test['u_out_lag_back2'] = test.groupby('breath_id')['u_out'].shift(-2)\n",
    "test = test.fillna(0)\n",
    "test['R__C'] = test[\"R\"].astype(str) + '__' + test[\"C\"].astype(str)\n",
    "\n",
    "test['breath_id__u_in__max'] = test.groupby(['breath_id'])['u_in'].transform('max')\n",
    "test['breath_id__u_out__max'] = test.groupby(['breath_id'])['u_out'].transform('max')\n",
    "\n",
    "test['breath_id__u_in__min'] = test.groupby(['breath_id'])['u_in'].transform('min')\n",
    "test['breath_id__u_out__min'] = test.groupby(['breath_id'])['u_out'].transform('min')\n",
    "\n",
    "test['u_in_diff1'] = test['u_in'] - test['u_in_lag1']\n",
    "test['u_out_diff1'] = test['u_out'] - test['u_out_lag1']\n",
    "test['u_in_diff2'] = test['u_in'] - test['u_in_lag2']\n",
    "test['u_out_diff2'] = test['u_out'] - test['u_out_lag2']\n",
    "test.loc[test['time_step'] == 0, 'u_in_diff'] = 0\n",
    "test.loc[test['time_step'] == 0, 'u_out_diff'] = 0\n",
    "\n",
    "test['breath_id__u_in__diffmax'] = test.groupby(['breath_id'])['u_in'].transform('max') - test['u_in']\n",
    "test['breath_id__u_in__diffmean'] = test.groupby(['breath_id'])['u_in'].transform('mean') - test['u_in']\n",
    "\n",
    "test = test.merge(pd.get_dummies(test['R'], prefix='R'), left_index=True, right_index=True).drop(['R'], axis=1)\n",
    "test = test.merge(pd.get_dummies(test['C'], prefix='C'), left_index=True, right_index=True).drop(['C'], axis=1)\n",
    "test = test.merge(pd.get_dummies(test['R__C'], prefix='R__C'), left_index=True, right_index=True).drop(['R__C'], axis=1)\n",
    "\n",
    "test['u_in_cumsum'] = test.groupby(['breath_id'])['u_in'].cumsum()\n",
    "test['time_step_cumsum'] = test.groupby(['breath_id'])['time_step'].cumsum()"
   ]
  },
  {
   "cell_type": "code",
   "execution_count": 3,
   "metadata": {},
   "outputs": [],
   "source": [
    "train['time_diff']=train.time_step.diff().fillna(0)\n",
    "test['time_diff']=test.time_step.diff().fillna(0)"
   ]
  },
  {
   "cell_type": "code",
   "execution_count": 4,
   "metadata": {},
   "outputs": [],
   "source": [
    "from sklearn.preprocessing import StandardScaler\n",
    "import matplotlib.pyplot as plt\n",
    "%matplotlib inline\n",
    "import seaborn as sns\n",
    "import os\n",
    "import numpy as np\n",
    "import time\n",
    "import lightgbm as lgb\n",
    "\n",
    "from sklearn.model_selection import GroupKFold \n",
    "from sklearn.model_selection import  KFold\n",
    "from sklearn import metrics"
   ]
  },
  {
   "cell_type": "code",
   "execution_count": 5,
   "metadata": {},
   "outputs": [
    {
     "data": {
      "text/plain": [
       "4024000"
      ]
     },
     "execution_count": 5,
     "metadata": {},
     "output_type": "execute_result"
    }
   ],
   "source": [
    "len(test)"
   ]
  },
  {
   "cell_type": "code",
   "execution_count": 6,
   "metadata": {},
   "outputs": [
    {
     "name": "stdout",
     "output_type": "stream",
     "text": [
      "Fold 0 started at Thu Oct  7 02:21:14 2021\n",
      "[LightGBM] [Warning] lambda_l1 is set=36, reg_alpha=0.0 will be ignored. Current value: lambda_l1=36\n",
      "[LightGBM] [Warning] lambda_l2 is set=80, reg_lambda=0.0 will be ignored. Current value: lambda_l2=80\n",
      "[LightGBM] [Warning] feature_fraction is set=0.4, colsample_bytree=1.0 will be ignored. Current value: feature_fraction=0.4\n",
      "[LightGBM] [Warning] min_data_in_leaf is set=600, min_child_samples=20 will be ignored. Current value: min_data_in_leaf=600\n",
      "Training until validation scores don't improve for 10 rounds\n",
      "[100]\ttraining's l1: 0.458959\tvalid_1's l1: 0.49238\n",
      "[200]\ttraining's l1: 0.419899\tvalid_1's l1: 0.466655\n",
      "[300]\ttraining's l1: 0.401481\tvalid_1's l1: 0.455961\n",
      "[400]\ttraining's l1: 0.386801\tvalid_1's l1: 0.448478\n",
      "[500]\ttraining's l1: 0.374641\tvalid_1's l1: 0.442722\n",
      "[600]\ttraining's l1: 0.365845\tvalid_1's l1: 0.43917\n",
      "[700]\ttraining's l1: 0.357985\tvalid_1's l1: 0.436241\n",
      "[800]\ttraining's l1: 0.351434\tvalid_1's l1: 0.434058\n",
      "[900]\ttraining's l1: 0.345644\tvalid_1's l1: 0.432233\n",
      "[1000]\ttraining's l1: 0.340927\tvalid_1's l1: 0.430811\n",
      "[1100]\ttraining's l1: 0.336012\tvalid_1's l1: 0.429683\n",
      "[1200]\ttraining's l1: 0.331554\tvalid_1's l1: 0.428262\n",
      "[1300]\ttraining's l1: 0.328314\tvalid_1's l1: 0.427376\n",
      "[1400]\ttraining's l1: 0.324774\tvalid_1's l1: 0.426571\n",
      "[1500]\ttraining's l1: 0.321381\tvalid_1's l1: 0.425812\n",
      "[1600]\ttraining's l1: 0.318487\tvalid_1's l1: 0.425152\n",
      "[1700]\ttraining's l1: 0.315767\tvalid_1's l1: 0.424626\n",
      "[1800]\ttraining's l1: 0.313207\tvalid_1's l1: 0.423985\n",
      "[1900]\ttraining's l1: 0.310581\tvalid_1's l1: 0.423504\n",
      "Early stopping, best iteration is:\n",
      "[1970]\ttraining's l1: 0.308982\tvalid_1's l1: 0.423207\n",
      "Fold 1 started at Thu Oct  7 09:16:07 2021\n",
      "[LightGBM] [Warning] lambda_l1 is set=36, reg_alpha=0.0 will be ignored. Current value: lambda_l1=36\n",
      "[LightGBM] [Warning] lambda_l2 is set=80, reg_lambda=0.0 will be ignored. Current value: lambda_l2=80\n",
      "[LightGBM] [Warning] feature_fraction is set=0.4, colsample_bytree=1.0 will be ignored. Current value: feature_fraction=0.4\n",
      "[LightGBM] [Warning] min_data_in_leaf is set=600, min_child_samples=20 will be ignored. Current value: min_data_in_leaf=600\n",
      "Training until validation scores don't improve for 10 rounds\n",
      "[100]\ttraining's l1: 0.453714\tvalid_1's l1: 0.49228\n",
      "[200]\ttraining's l1: 0.41348\tvalid_1's l1: 0.465742\n",
      "[300]\ttraining's l1: 0.394349\tvalid_1's l1: 0.454346\n",
      "[400]\ttraining's l1: 0.380606\tvalid_1's l1: 0.447684\n",
      "[500]\ttraining's l1: 0.368897\tvalid_1's l1: 0.442506\n",
      "[600]\ttraining's l1: 0.359345\tvalid_1's l1: 0.438473\n",
      "[700]\ttraining's l1: 0.352679\tvalid_1's l1: 0.436032\n",
      "[800]\ttraining's l1: 0.345942\tvalid_1's l1: 0.433803\n",
      "[900]\ttraining's l1: 0.340156\tvalid_1's l1: 0.432098\n",
      "[1000]\ttraining's l1: 0.335318\tvalid_1's l1: 0.430665\n",
      "[1100]\ttraining's l1: 0.330548\tvalid_1's l1: 0.42938\n",
      "[1200]\ttraining's l1: 0.326779\tvalid_1's l1: 0.428242\n",
      "[1300]\ttraining's l1: 0.323604\tvalid_1's l1: 0.427345\n",
      "[1400]\ttraining's l1: 0.320081\tvalid_1's l1: 0.426671\n",
      "[1500]\ttraining's l1: 0.317262\tvalid_1's l1: 0.425984\n",
      "[1600]\ttraining's l1: 0.314602\tvalid_1's l1: 0.425346\n",
      "[1700]\ttraining's l1: 0.311978\tvalid_1's l1: 0.424837\n",
      "[1800]\ttraining's l1: 0.309375\tvalid_1's l1: 0.424259\n",
      "[1900]\ttraining's l1: 0.306877\tvalid_1's l1: 0.423814\n",
      "[2000]\ttraining's l1: 0.30457\tvalid_1's l1: 0.423378\n",
      "Early stopping, best iteration is:\n",
      "[2047]\ttraining's l1: 0.303613\tvalid_1's l1: 0.423216\n",
      "CV mean score: 0.4232, std: 0.0000.\n"
     ]
    }
   ],
   "source": [
    "scores = []\n",
    "feature_importance = pd.DataFrame()\n",
    "models = []\n",
    "columns = [col for col in train.columns if col not in ['id', 'breath_id', 'pressure']]\n",
    "X = train[columns]\n",
    "y = train['pressure']\n",
    "params = {'objective': 'regression',\n",
    "          'learning_rate': 0.25,\n",
    "          \"boosting_type\": \"gbdt\",\n",
    "          'min_data_in_leaf':600,\n",
    "          'max_bin': 196,\n",
    "          #'device':'gpu',\n",
    "          'feature_fraction':0.4,\n",
    "          'lambda_l1':36, 'lambda_l2':80,\n",
    "          'max_depth':16,\n",
    "          'num_leaves':1000,\n",
    "          \"metric\": 'mae',\n",
    "          'n_jobs': -1\n",
    "         }\n",
    "folds = GroupKFold(n_splits=2)\n",
    "for fold_n, (train_index, valid_index) in enumerate(folds.split(train, y, groups=train['breath_id'])):\n",
    "    print(f'Fold {fold_n} started at {time.ctime()}')\n",
    "    X_train, X_valid = X[columns].iloc[train_index], X[columns].iloc[valid_index]\n",
    "    y_train, y_valid = y.iloc[train_index], y.iloc[valid_index]\n",
    "    model = lgb.LGBMRegressor(**params, n_estimators=8000)\n",
    "    model.fit(X_train, y_train, \n",
    "            eval_set=[(X_train, y_train), (X_valid, y_valid)],\n",
    "            verbose=100, early_stopping_rounds=10)\n",
    "    score = metrics.mean_absolute_error(y_valid, model.predict(X_valid))\n",
    "    \n",
    "    models.append(model)\n",
    "    scores.append(score)\n",
    "\n",
    "    fold_importance = pd.DataFrame()\n",
    "    fold_importance[\"feature\"] = columns\n",
    "    fold_importance[\"importance\"] = model.feature_importances_\n",
    "    fold_importance[\"fold\"] = fold_n + 1\n",
    "    feature_importance = pd.concat([feature_importance, fold_importance], axis=0)\n",
    "    \n",
    "print('CV mean score: {0:.4f}, std: {1:.4f}.'.format(np.mean(scores), np.std(scores)))"
   ]
  },
  {
   "cell_type": "code",
   "execution_count": 7,
   "metadata": {},
   "outputs": [
    {
     "data": {
      "text/plain": [
       "4024000"
      ]
     },
     "execution_count": 7,
     "metadata": {},
     "output_type": "execute_result"
    }
   ],
   "source": [
    "len(models[0].predict(test[columns]))"
   ]
  },
  {
   "cell_type": "code",
   "execution_count": 8,
   "metadata": {},
   "outputs": [
    {
     "data": {
      "text/plain": [
       "4024000"
      ]
     },
     "execution_count": 8,
     "metadata": {},
     "output_type": "execute_result"
    }
   ],
   "source": [
    "len(submission)"
   ]
  },
  {
   "cell_type": "code",
   "execution_count": 9,
   "metadata": {
    "tags": []
   },
   "outputs": [],
   "source": [
    "for model in models:\n",
    "    submission['pressure'] += model.predict(test[columns])\n",
    "submission['pressure'] /= 2\n",
    "\n",
    "submission.to_csv('first_sub.csv', index=False)"
   ]
  }
 ],
 "metadata": {
  "kernelspec": {
   "display_name": "Python 3 (ipykernel)",
   "language": "python",
   "name": "python3"
  },
  "language_info": {
   "codemirror_mode": {
    "name": "ipython",
    "version": 3
   },
   "file_extension": ".py",
   "mimetype": "text/x-python",
   "name": "python",
   "nbconvert_exporter": "python",
   "pygments_lexer": "ipython3",
   "version": "3.8.5"
  }
 },
 "nbformat": 4,
 "nbformat_minor": 4
}
