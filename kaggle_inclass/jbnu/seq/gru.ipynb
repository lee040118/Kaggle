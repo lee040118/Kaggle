{
 "cells": [
  {
   "cell_type": "code",
   "execution_count": 122,
   "id": "e532eea4-ec1f-43e6-bd68-13aed47049a7",
   "metadata": {},
   "outputs": [],
   "source": [
    "import numpy as np\n",
    "import pandas as pd\n",
    "import matplotlib.pyplot as plt\n",
    "import seaborn as sns\n",
    "from tqdm.auto import tqdm\n",
    "import torch\n",
    "import sklearn\n",
    "from torch.utils.data import Dataset, DataLoader\n",
    "import torch.nn as nn\n",
    "from sklearn.preprocessing import MinMaxScaler\n",
    "from sklearn.preprocessing import RobustScaler\n",
    "from torch.optim.lr_scheduler import StepLR\n",
    "import gc"
   ]
  },
  {
   "cell_type": "code",
   "execution_count": 2,
   "id": "f7ad0225-113d-4692-9cfb-74f660227a33",
   "metadata": {},
   "outputs": [],
   "source": [
    "random_seed = 2021\n",
    "torch.manual_seed(random_seed)\n",
    "torch.cuda.manual_seed(random_seed)\n",
    "np.random.seed(random_seed)"
   ]
  },
  {
   "cell_type": "code",
   "execution_count": 304,
   "id": "6ad6cd18-4b5d-48b9-b2c9-628b520c6bb0",
   "metadata": {
    "tags": []
   },
   "outputs": [],
   "source": [
    "df = pd.read_csv('./data/train.csv',engine='python')\n",
    "test_df = pd.read_csv('./data/test.csv',engine='python')\n",
    "test_df2 = pd.read_csv('./data/test.csv',engine='python')"
   ]
  },
  {
   "cell_type": "code",
   "execution_count": 305,
   "id": "47613038-6e9f-46be-8d63-63e1fc6f1f94",
   "metadata": {},
   "outputs": [],
   "source": [
    "def processing(dt):\n",
    "    df_date = dt['Date(MM/DD/YYYY)'].tolist()\n",
    "    month = list()\n",
    "    day = list()\n",
    "    year = list()\n",
    "\n",
    "    for date in df_date:\n",
    "        a = date.split('/')\n",
    "        month.append(a[0])\n",
    "        day.append(a[1])\n",
    "        year.append(a[2])\n",
    "\n",
    "    dt.drop('Date(MM/DD/YYYY)', axis=1, inplace=True)\n",
    "    dt.loc[:,'Month']=pd.Series(month, index=dt.index)\n",
    "    dt.loc[:,'Day']=pd.Series(day, index=dt.index)\n",
    "    dt.loc[:,'Year']=pd.Series(year, index=dt.index)\n",
    "    \n",
    "    return dt"
   ]
  },
  {
   "cell_type": "code",
   "execution_count": 306,
   "id": "82f40e35-26a2-474e-803d-bcd24797edd6",
   "metadata": {
    "tags": []
   },
   "outputs": [],
   "source": [
    "df = processing(df)\n",
    "test_df = processing(test_df)\n",
    "test_df2 = processing(test_df2)"
   ]
  },
  {
   "cell_type": "code",
   "execution_count": 177,
   "id": "a564fd3f-fa7c-4af4-90a9-053a1b2673f8",
   "metadata": {},
   "outputs": [
    {
     "data": {
      "text/html": [
       "<div>\n",
       "<style scoped>\n",
       "    .dataframe tbody tr th:only-of-type {\n",
       "        vertical-align: middle;\n",
       "    }\n",
       "\n",
       "    .dataframe tbody tr th {\n",
       "        vertical-align: top;\n",
       "    }\n",
       "\n",
       "    .dataframe thead th {\n",
       "        text-align: right;\n",
       "    }\n",
       "</style>\n",
       "<table border=\"1\" class=\"dataframe\">\n",
       "  <thead>\n",
       "    <tr style=\"text-align: right;\">\n",
       "      <th></th>\n",
       "      <th>Hour</th>\n",
       "      <th>Solar Radiance(w/m^2)</th>\n",
       "      <th>Temperature(C)</th>\n",
       "      <th>Solar Power(kW)</th>\n",
       "      <th>Month</th>\n",
       "      <th>Day</th>\n",
       "      <th>Year</th>\n",
       "    </tr>\n",
       "  </thead>\n",
       "  <tbody>\n",
       "    <tr>\n",
       "      <th>0</th>\n",
       "      <td>0</td>\n",
       "      <td>-2.9380</td>\n",
       "      <td>5.5313</td>\n",
       "      <td>0.0</td>\n",
       "      <td>1</td>\n",
       "      <td>1</td>\n",
       "      <td>2020</td>\n",
       "    </tr>\n",
       "    <tr>\n",
       "      <th>1</th>\n",
       "      <td>1</td>\n",
       "      <td>-2.5765</td>\n",
       "      <td>5.8106</td>\n",
       "      <td>0.0</td>\n",
       "      <td>1</td>\n",
       "      <td>1</td>\n",
       "      <td>2020</td>\n",
       "    </tr>\n",
       "    <tr>\n",
       "      <th>2</th>\n",
       "      <td>2</td>\n",
       "      <td>-2.5086</td>\n",
       "      <td>5.3325</td>\n",
       "      <td>0.0</td>\n",
       "      <td>1</td>\n",
       "      <td>1</td>\n",
       "      <td>2020</td>\n",
       "    </tr>\n",
       "    <tr>\n",
       "      <th>3</th>\n",
       "      <td>3</td>\n",
       "      <td>-1.9340</td>\n",
       "      <td>5.5484</td>\n",
       "      <td>0.0</td>\n",
       "      <td>1</td>\n",
       "      <td>1</td>\n",
       "      <td>2020</td>\n",
       "    </tr>\n",
       "    <tr>\n",
       "      <th>4</th>\n",
       "      <td>4</td>\n",
       "      <td>-2.0231</td>\n",
       "      <td>4.7662</td>\n",
       "      <td>0.0</td>\n",
       "      <td>1</td>\n",
       "      <td>1</td>\n",
       "      <td>2020</td>\n",
       "    </tr>\n",
       "    <tr>\n",
       "      <th>...</th>\n",
       "      <td>...</td>\n",
       "      <td>...</td>\n",
       "      <td>...</td>\n",
       "      <td>...</td>\n",
       "      <td>...</td>\n",
       "      <td>...</td>\n",
       "      <td>...</td>\n",
       "    </tr>\n",
       "    <tr>\n",
       "      <th>8755</th>\n",
       "      <td>19</td>\n",
       "      <td>-1.5387</td>\n",
       "      <td>9.0635</td>\n",
       "      <td>0.0</td>\n",
       "      <td>12</td>\n",
       "      <td>31</td>\n",
       "      <td>2020</td>\n",
       "    </tr>\n",
       "    <tr>\n",
       "      <th>8756</th>\n",
       "      <td>20</td>\n",
       "      <td>-3.0244</td>\n",
       "      <td>8.5637</td>\n",
       "      <td>0.0</td>\n",
       "      <td>12</td>\n",
       "      <td>31</td>\n",
       "      <td>2020</td>\n",
       "    </tr>\n",
       "    <tr>\n",
       "      <th>8757</th>\n",
       "      <td>21</td>\n",
       "      <td>-2.5433</td>\n",
       "      <td>7.9824</td>\n",
       "      <td>0.0</td>\n",
       "      <td>12</td>\n",
       "      <td>31</td>\n",
       "      <td>2020</td>\n",
       "    </tr>\n",
       "    <tr>\n",
       "      <th>8758</th>\n",
       "      <td>22</td>\n",
       "      <td>-2.6706</td>\n",
       "      <td>7.7303</td>\n",
       "      <td>0.0</td>\n",
       "      <td>12</td>\n",
       "      <td>31</td>\n",
       "      <td>2020</td>\n",
       "    </tr>\n",
       "    <tr>\n",
       "      <th>8759</th>\n",
       "      <td>23</td>\n",
       "      <td>-2.0512</td>\n",
       "      <td>9.0433</td>\n",
       "      <td>0.0</td>\n",
       "      <td>12</td>\n",
       "      <td>31</td>\n",
       "      <td>2020</td>\n",
       "    </tr>\n",
       "  </tbody>\n",
       "</table>\n",
       "<p>8760 rows × 7 columns</p>\n",
       "</div>"
      ],
      "text/plain": [
       "      Hour  Solar Radiance(w/m^2)  Temperature(C)  Solar Power(kW) Month Day  \\\n",
       "0        0                -2.9380          5.5313              0.0     1   1   \n",
       "1        1                -2.5765          5.8106              0.0     1   1   \n",
       "2        2                -2.5086          5.3325              0.0     1   1   \n",
       "3        3                -1.9340          5.5484              0.0     1   1   \n",
       "4        4                -2.0231          4.7662              0.0     1   1   \n",
       "...    ...                    ...             ...              ...   ...  ..   \n",
       "8755    19                -1.5387          9.0635              0.0    12  31   \n",
       "8756    20                -3.0244          8.5637              0.0    12  31   \n",
       "8757    21                -2.5433          7.9824              0.0    12  31   \n",
       "8758    22                -2.6706          7.7303              0.0    12  31   \n",
       "8759    23                -2.0512          9.0433              0.0    12  31   \n",
       "\n",
       "      Year  \n",
       "0     2020  \n",
       "1     2020  \n",
       "2     2020  \n",
       "3     2020  \n",
       "4     2020  \n",
       "...    ...  \n",
       "8755  2020  \n",
       "8756  2020  \n",
       "8757  2020  \n",
       "8758  2020  \n",
       "8759  2020  \n",
       "\n",
       "[8760 rows x 7 columns]"
      ]
     },
     "execution_count": 177,
     "metadata": {},
     "output_type": "execute_result"
    }
   ],
   "source": [
    "test_df"
   ]
  },
  {
   "cell_type": "code",
   "execution_count": 7,
   "id": "f46f88e5-b18a-4995-90c6-251b406826ef",
   "metadata": {},
   "outputs": [],
   "source": [
    "common_features = ['Solar Radiance(w/m^2)','Temperature(C)','Solar Power(kW)']"
   ]
  },
  {
   "cell_type": "code",
   "execution_count": 8,
   "id": "64833432-d382-48c5-ab66-4238dc2f54d2",
   "metadata": {},
   "outputs": [],
   "source": [
    "def kdeplot_features(df_train,df_test, feature, title):\n",
    "    values_train = df_train[feature]\n",
    "    values_test = df_test[feature]\n",
    "     \n",
    "    plt.figure(figsize = (20, 3))\n",
    "    \n",
    "    sns.kdeplot(values_train, color = 'red')\n",
    "    sns.kdeplot(values_test, color = 'black')\n",
    "    \n",
    "    plt.title(title, fontsize=20)\n",
    "    plt.legend()\n",
    "    plt.show();\n",
    "    \n",
    "    # del values_train , values_test\n",
    "    # gc.collect()"
   ]
  },
  {
   "cell_type": "code",
   "execution_count": 215,
   "id": "7bccecdb-ea8d-4421-91bd-49acb23df1e2",
   "metadata": {
    "tags": []
   },
   "outputs": [
    {
     "name": "stderr",
     "output_type": "stream",
     "text": [
      "No handles with labels found to put in legend.\n"
     ]
    },
    {
     "data": {
      "image/png": "[encoded data removed]",
      "text/plain": [
       "<Figure size 1440x216 with 1 Axes>"
      ]
     },
     "metadata": {
      "needs_background": "light"
     },
     "output_type": "display_data"
    },
    {
     "name": "stderr",
     "output_type": "stream",
     "text": [
      "No handles with labels found to put in legend.\n"
     ]
    },
    {
     "data": {
      "image/png": "[encoded data removed]",
      "text/plain": [
       "<Figure size 1440x216 with 1 Axes>"
      ]
     },
     "metadata": {
      "needs_background": "light"
     },
     "output_type": "display_data"
    },
    {
     "name": "stderr",
     "output_type": "stream",
     "text": [
      "No handles with labels found to put in legend.\n"
     ]
    },
    {
     "data": {
      "image/png": "[encoded data removed]",
      "text/plain": [
       "<Figure size 1440x216 with 1 Axes>"
      ]
     },
     "metadata": {
      "needs_background": "light"
     },
     "output_type": "display_data"
    }
   ],
   "source": [
    "for feature in common_features:\n",
    "    kdeplot_features(df,test_df, feature=feature, title = feature + \" distribution\")"
   ]
  },
  {
   "cell_type": "code",
   "execution_count": 9,
   "id": "f0e458c2-c858-436a-91da-664c8ec9534c",
   "metadata": {},
   "outputs": [
    {
     "data": {
      "text/plain": [
       "Hour                     1848\n",
       "Solar Radiance(w/m^2)       0\n",
       "Temperature(C)              0\n",
       "Solar Power(kW)             0\n",
       "Month                    1848\n",
       "Day                      1848\n",
       "Year                     1848\n",
       "dtype: int64"
      ]
     },
     "execution_count": 9,
     "metadata": {},
     "output_type": "execute_result"
    }
   ],
   "source": [
    "df[df['Solar Radiance(w/m^2)'].isnull()].count()"
   ]
  },
  {
   "cell_type": "code",
   "execution_count": 219,
   "id": "b81294ec-beb9-4b0c-a2b7-fce5292ef765",
   "metadata": {
    "tags": []
   },
   "outputs": [
    {
     "data": {
      "text/html": [
       "<div>\n",
       "<style scoped>\n",
       "    .dataframe tbody tr th:only-of-type {\n",
       "        vertical-align: middle;\n",
       "    }\n",
       "\n",
       "    .dataframe tbody tr th {\n",
       "        vertical-align: top;\n",
       "    }\n",
       "\n",
       "    .dataframe thead th {\n",
       "        text-align: right;\n",
       "    }\n",
       "</style>\n",
       "<table border=\"1\" class=\"dataframe\">\n",
       "  <thead>\n",
       "    <tr style=\"text-align: right;\">\n",
       "      <th></th>\n",
       "      <th>Hour</th>\n",
       "      <th>Solar Radiance(w/m^2)</th>\n",
       "      <th>Temperature(C)</th>\n",
       "      <th>Solar Power(kW)</th>\n",
       "    </tr>\n",
       "  </thead>\n",
       "  <tbody>\n",
       "    <tr>\n",
       "      <th>count</th>\n",
       "      <td>105120.000000</td>\n",
       "      <td>103272.000000</td>\n",
       "      <td>103272.000000</td>\n",
       "      <td>103272.000000</td>\n",
       "    </tr>\n",
       "    <tr>\n",
       "      <th>mean</th>\n",
       "      <td>11.500000</td>\n",
       "      <td>236.417396</td>\n",
       "      <td>22.116514</td>\n",
       "      <td>58.596109</td>\n",
       "    </tr>\n",
       "    <tr>\n",
       "      <th>std</th>\n",
       "      <td>6.922219</td>\n",
       "      <td>317.933331</td>\n",
       "      <td>10.057908</td>\n",
       "      <td>78.085571</td>\n",
       "    </tr>\n",
       "    <tr>\n",
       "      <th>min</th>\n",
       "      <td>0.000000</td>\n",
       "      <td>0.000000</td>\n",
       "      <td>-2.121600</td>\n",
       "      <td>0.000000</td>\n",
       "    </tr>\n",
       "    <tr>\n",
       "      <th>25%</th>\n",
       "      <td>5.750000</td>\n",
       "      <td>0.000000</td>\n",
       "      <td>13.643450</td>\n",
       "      <td>0.000000</td>\n",
       "    </tr>\n",
       "    <tr>\n",
       "      <th>50%</th>\n",
       "      <td>11.500000</td>\n",
       "      <td>10.191550</td>\n",
       "      <td>21.702900</td>\n",
       "      <td>2.558864</td>\n",
       "    </tr>\n",
       "    <tr>\n",
       "      <th>75%</th>\n",
       "      <td>17.250000</td>\n",
       "      <td>466.469025</td>\n",
       "      <td>30.478050</td>\n",
       "      <td>118.431006</td>\n",
       "    </tr>\n",
       "    <tr>\n",
       "      <th>max</th>\n",
       "      <td>23.000000</td>\n",
       "      <td>1154.582000</td>\n",
       "      <td>46.144500</td>\n",
       "      <td>297.681980</td>\n",
       "    </tr>\n",
       "  </tbody>\n",
       "</table>\n",
       "</div>"
      ],
      "text/plain": [
       "                Hour  Solar Radiance(w/m^2)  Temperature(C)  Solar Power(kW)\n",
       "count  105120.000000          103272.000000   103272.000000    103272.000000\n",
       "mean       11.500000             236.417396       22.116514        58.596109\n",
       "std         6.922219             317.933331       10.057908        78.085571\n",
       "min         0.000000               0.000000       -2.121600         0.000000\n",
       "25%         5.750000               0.000000       13.643450         0.000000\n",
       "50%        11.500000              10.191550       21.702900         2.558864\n",
       "75%        17.250000             466.469025       30.478050       118.431006\n",
       "max        23.000000            1154.582000       46.144500       297.681980"
      ]
     },
     "execution_count": 219,
     "metadata": {},
     "output_type": "execute_result"
    }
   ],
   "source": [
    "df.describe()"
   ]
  },
  {
   "cell_type": "code",
   "execution_count": 220,
   "id": "bf864bc8-8d3e-4fef-8787-6b8cf4178a68",
   "metadata": {},
   "outputs": [
    {
     "name": "stdout",
     "output_type": "stream",
     "text": [
      "<class 'pandas.core.frame.DataFrame'>\n",
      "RangeIndex: 105120 entries, 0 to 105119\n",
      "Data columns (total 7 columns):\n",
      " #   Column                 Non-Null Count   Dtype  \n",
      "---  ------                 --------------   -----  \n",
      " 0   Hour                   105120 non-null  int64  \n",
      " 1   Solar Radiance(w/m^2)  103272 non-null  float64\n",
      " 2   Temperature(C)         103272 non-null  float64\n",
      " 3   Solar Power(kW)        103272 non-null  float64\n",
      " 4   Month                  105120 non-null  object \n",
      " 5   Day                    105120 non-null  object \n",
      " 6   Year                   105120 non-null  object \n",
      "dtypes: float64(3), int64(1), object(3)\n",
      "memory usage: 5.6+ MB\n"
     ]
    }
   ],
   "source": [
    "df.info()"
   ]
  },
  {
   "cell_type": "code",
   "execution_count": 221,
   "id": "a92e986d-df85-4b80-98f6-53bfad123a7e",
   "metadata": {},
   "outputs": [
    {
     "data": {
      "text/plain": [
       "[<matplotlib.lines.Line2D at 0x7f18cc466e80>]"
      ]
     },
     "execution_count": 221,
     "metadata": {},
     "output_type": "execute_result"
    },
    {
     "data": {
      "image/png": "[encoded data removed]",
      "text/plain": [
       "<Figure size 432x288 with 1 Axes>"
      ]
     },
     "metadata": {
      "needs_background": "light"
     },
     "output_type": "display_data"
    }
   ],
   "source": [
    "plt.plot(df.loc[(df['Month']=='4') &(df['Temperature(C)']!=-99999.0 ), 'Solar Power(kW)'])"
   ]
  },
  {
   "cell_type": "code",
   "execution_count": 1,
   "id": "987a25d8-9691-43ee-8f9d-9f2de2a1f465",
   "metadata": {},
   "outputs": [
    {
     "ename": "NameError",
     "evalue": "name 'df' is not defined",
     "output_type": "error",
     "traceback": [
      "\u001b[0;31m---------------------------------------------------------------------------\u001b[0m",
      "\u001b[0;31mNameError\u001b[0m                                 Traceback (most recent call last)",
      "\u001b[0;32m/tmp/ipykernel_57748/617605620.py\u001b[0m in \u001b[0;36m<module>\u001b[0;34m\u001b[0m\n\u001b[0;32m----> 1\u001b[0;31m \u001b[0mdf\u001b[0m\u001b[0;34m.\u001b[0m\u001b[0mloc\u001b[0m\u001b[0;34m[\u001b[0m\u001b[0;34m(\u001b[0m\u001b[0mdf\u001b[0m\u001b[0;34m[\u001b[0m\u001b[0;34m'Month'\u001b[0m\u001b[0;34m]\u001b[0m\u001b[0;34m==\u001b[0m\u001b[0;34m'2'\u001b[0m\u001b[0;34m)\u001b[0m\u001b[0;34m&\u001b[0m\u001b[0;34m(\u001b[0m\u001b[0mdf\u001b[0m\u001b[0;34m[\u001b[0m\u001b[0;34m'Temperature(C)'\u001b[0m\u001b[0;34m]\u001b[0m\u001b[0;34m!=\u001b[0m\u001b[0;34m-\u001b[0m\u001b[0;36m99999.0\u001b[0m \u001b[0;34m)\u001b[0m\u001b[0;34m,\u001b[0m\u001b[0;34m'Temperature(C)'\u001b[0m\u001b[0;34m,\u001b[0m\u001b[0;34m'Solar Power(kW)'\u001b[0m\u001b[0;34m]\u001b[0m\u001b[0;34m.\u001b[0m\u001b[0mmean\u001b[0m\u001b[0;34m(\u001b[0m\u001b[0;34m)\u001b[0m\u001b[0;34m\u001b[0m\u001b[0;34m\u001b[0m\u001b[0m\n\u001b[0m",
      "\u001b[0;31mNameError\u001b[0m: name 'df' is not defined"
     ]
    }
   ],
   "source": [
    "df.loc[(df['Month']=='2')&(df['Temperature(C)']!=-99999.0 ),'Temperature(C)','Solar Power(kW)'].mean()\n"
   ]
  },
  {
   "cell_type": "code",
   "execution_count": 10,
   "id": "597101ae-152d-43b0-8c58-6848632511c3",
   "metadata": {},
   "outputs": [],
   "source": [
    "df.loc[df['Solar Radiance(w/m^2)']<0,'Solar Radiance(w/m^2)'] = 0"
   ]
  },
  {
   "cell_type": "code",
   "execution_count": 11,
   "id": "59a37b01-f26a-4543-b62f-22fa9d40adb3",
   "metadata": {
    "tags": []
   },
   "outputs": [],
   "source": [
    "df.loc[df['Temperature(C)']==-99999.0, ['Temperature(C)','Solar Power(kW)']] = 12.475700, 0"
   ]
  },
  {
   "cell_type": "code",
   "execution_count": 12,
   "id": "9922451b-b26c-4831-a12c-d9dbf957cf45",
   "metadata": {},
   "outputs": [
    {
     "data": {
      "text/html": [
       "<div>\n",
       "<style scoped>\n",
       "    .dataframe tbody tr th:only-of-type {\n",
       "        vertical-align: middle;\n",
       "    }\n",
       "\n",
       "    .dataframe tbody tr th {\n",
       "        vertical-align: top;\n",
       "    }\n",
       "\n",
       "    .dataframe thead th {\n",
       "        text-align: right;\n",
       "    }\n",
       "</style>\n",
       "<table border=\"1\" class=\"dataframe\">\n",
       "  <thead>\n",
       "    <tr style=\"text-align: right;\">\n",
       "      <th></th>\n",
       "      <th>Hour</th>\n",
       "      <th>Solar Radiance(w/m^2)</th>\n",
       "      <th>Temperature(C)</th>\n",
       "      <th>Solar Power(kW)</th>\n",
       "    </tr>\n",
       "  </thead>\n",
       "  <tbody>\n",
       "    <tr>\n",
       "      <th>count</th>\n",
       "      <td>105120.000000</td>\n",
       "      <td>103272.000000</td>\n",
       "      <td>103272.000000</td>\n",
       "      <td>103272.000000</td>\n",
       "    </tr>\n",
       "    <tr>\n",
       "      <th>mean</th>\n",
       "      <td>11.500000</td>\n",
       "      <td>236.417396</td>\n",
       "      <td>22.116514</td>\n",
       "      <td>58.596109</td>\n",
       "    </tr>\n",
       "    <tr>\n",
       "      <th>std</th>\n",
       "      <td>6.922219</td>\n",
       "      <td>317.933331</td>\n",
       "      <td>10.057908</td>\n",
       "      <td>78.085571</td>\n",
       "    </tr>\n",
       "    <tr>\n",
       "      <th>min</th>\n",
       "      <td>0.000000</td>\n",
       "      <td>0.000000</td>\n",
       "      <td>-2.121600</td>\n",
       "      <td>0.000000</td>\n",
       "    </tr>\n",
       "    <tr>\n",
       "      <th>25%</th>\n",
       "      <td>5.750000</td>\n",
       "      <td>0.000000</td>\n",
       "      <td>13.643450</td>\n",
       "      <td>0.000000</td>\n",
       "    </tr>\n",
       "    <tr>\n",
       "      <th>50%</th>\n",
       "      <td>11.500000</td>\n",
       "      <td>10.191550</td>\n",
       "      <td>21.702900</td>\n",
       "      <td>2.558864</td>\n",
       "    </tr>\n",
       "    <tr>\n",
       "      <th>75%</th>\n",
       "      <td>17.250000</td>\n",
       "      <td>466.469025</td>\n",
       "      <td>30.478050</td>\n",
       "      <td>118.431006</td>\n",
       "    </tr>\n",
       "    <tr>\n",
       "      <th>max</th>\n",
       "      <td>23.000000</td>\n",
       "      <td>1154.582000</td>\n",
       "      <td>46.144500</td>\n",
       "      <td>297.681980</td>\n",
       "    </tr>\n",
       "  </tbody>\n",
       "</table>\n",
       "</div>"
      ],
      "text/plain": [
       "                Hour  Solar Radiance(w/m^2)  Temperature(C)  Solar Power(kW)\n",
       "count  105120.000000          103272.000000   103272.000000    103272.000000\n",
       "mean       11.500000             236.417396       22.116514        58.596109\n",
       "std         6.922219             317.933331       10.057908        78.085571\n",
       "min         0.000000               0.000000       -2.121600         0.000000\n",
       "25%         5.750000               0.000000       13.643450         0.000000\n",
       "50%        11.500000              10.191550       21.702900         2.558864\n",
       "75%        17.250000             466.469025       30.478050       118.431006\n",
       "max        23.000000            1154.582000       46.144500       297.681980"
      ]
     },
     "execution_count": 12,
     "metadata": {},
     "output_type": "execute_result"
    }
   ],
   "source": [
    "df.describe()"
   ]
  },
  {
   "cell_type": "code",
   "execution_count": 307,
   "id": "1deb0863-c81a-40a7-b310-3f43d2042e8e",
   "metadata": {},
   "outputs": [],
   "source": [
    "test_df.loc[test_df['Solar Radiance(w/m^2)']<0,'Solar Radiance(w/m^2)'] = 0"
   ]
  },
  {
   "cell_type": "code",
   "execution_count": 212,
   "id": "af2c8b70-a440-436b-bffa-11783d8f4b98",
   "metadata": {},
   "outputs": [
    {
     "data": {
      "text/html": [
       "<div>\n",
       "<style scoped>\n",
       "    .dataframe tbody tr th:only-of-type {\n",
       "        vertical-align: middle;\n",
       "    }\n",
       "\n",
       "    .dataframe tbody tr th {\n",
       "        vertical-align: top;\n",
       "    }\n",
       "\n",
       "    .dataframe thead th {\n",
       "        text-align: right;\n",
       "    }\n",
       "</style>\n",
       "<table border=\"1\" class=\"dataframe\">\n",
       "  <thead>\n",
       "    <tr style=\"text-align: right;\">\n",
       "      <th></th>\n",
       "      <th>Hour</th>\n",
       "      <th>Solar Radiance(w/m^2)</th>\n",
       "      <th>Temperature(C)</th>\n",
       "      <th>Solar Power(kW)</th>\n",
       "    </tr>\n",
       "  </thead>\n",
       "  <tbody>\n",
       "    <tr>\n",
       "      <th>count</th>\n",
       "      <td>8760.000000</td>\n",
       "      <td>6912.000000</td>\n",
       "      <td>6912.000000</td>\n",
       "      <td>6912.000000</td>\n",
       "    </tr>\n",
       "    <tr>\n",
       "      <th>mean</th>\n",
       "      <td>11.500000</td>\n",
       "      <td>238.308595</td>\n",
       "      <td>22.134330</td>\n",
       "      <td>59.020715</td>\n",
       "    </tr>\n",
       "    <tr>\n",
       "      <th>std</th>\n",
       "      <td>6.922582</td>\n",
       "      <td>317.514732</td>\n",
       "      <td>10.620961</td>\n",
       "      <td>77.824192</td>\n",
       "    </tr>\n",
       "    <tr>\n",
       "      <th>min</th>\n",
       "      <td>0.000000</td>\n",
       "      <td>0.000000</td>\n",
       "      <td>1.805400</td>\n",
       "      <td>0.000000</td>\n",
       "    </tr>\n",
       "    <tr>\n",
       "      <th>25%</th>\n",
       "      <td>5.750000</td>\n",
       "      <td>0.000000</td>\n",
       "      <td>12.808525</td>\n",
       "      <td>0.000000</td>\n",
       "    </tr>\n",
       "    <tr>\n",
       "      <th>50%</th>\n",
       "      <td>11.500000</td>\n",
       "      <td>9.755750</td>\n",
       "      <td>20.855550</td>\n",
       "      <td>2.427515</td>\n",
       "    </tr>\n",
       "    <tr>\n",
       "      <th>75%</th>\n",
       "      <td>17.250000</td>\n",
       "      <td>477.700650</td>\n",
       "      <td>31.411175</td>\n",
       "      <td>121.124963</td>\n",
       "    </tr>\n",
       "    <tr>\n",
       "      <th>max</th>\n",
       "      <td>23.000000</td>\n",
       "      <td>1084.883200</td>\n",
       "      <td>45.179000</td>\n",
       "      <td>274.091265</td>\n",
       "    </tr>\n",
       "  </tbody>\n",
       "</table>\n",
       "</div>"
      ],
      "text/plain": [
       "              Hour  Solar Radiance(w/m^2)  Temperature(C)  Solar Power(kW)\n",
       "count  8760.000000            6912.000000     6912.000000      6912.000000\n",
       "mean     11.500000             238.308595       22.134330        59.020715\n",
       "std       6.922582             317.514732       10.620961        77.824192\n",
       "min       0.000000               0.000000        1.805400         0.000000\n",
       "25%       5.750000               0.000000       12.808525         0.000000\n",
       "50%      11.500000               9.755750       20.855550         2.427515\n",
       "75%      17.250000             477.700650       31.411175       121.124963\n",
       "max      23.000000            1084.883200       45.179000       274.091265"
      ]
     },
     "execution_count": 212,
     "metadata": {},
     "output_type": "execute_result"
    }
   ],
   "source": [
    "test_df.describe()"
   ]
  },
  {
   "cell_type": "code",
   "execution_count": 308,
   "id": "c1ce98a4-98ef-4686-aadb-e7a9e078b0fd",
   "metadata": {},
   "outputs": [],
   "source": [
    "test_df = test_df.fillna(method='ffill')"
   ]
  },
  {
   "cell_type": "code",
   "execution_count": 213,
   "id": "a003aac2-b691-42a4-b911-62398e3cc182",
   "metadata": {
    "collapsed": true,
    "jupyter": {
     "outputs_hidden": true
    },
    "tags": []
   },
   "outputs": [
    {
     "name": "stderr",
     "output_type": "stream",
     "text": [
      "No handles with labels found to put in legend.\n"
     ]
    },
    {
     "data": {
      "image/png": "[encoded data removed]",
      "text/plain": [
       "<Figure size 1296x216 with 1 Axes>"
      ]
     },
     "metadata": {
      "needs_background": "light"
     },
     "output_type": "display_data"
    },
    {
     "name": "stderr",
     "output_type": "stream",
     "text": [
      "No handles with labels found to put in legend.\n"
     ]
    },
    {
     "data": {
      "image/png": "[encoded data removed]",
      "text/plain": [
       "<Figure size 1296x216 with 1 Axes>"
      ]
     },
     "metadata": {
      "needs_background": "light"
     },
     "output_type": "display_data"
    },
    {
     "name": "stderr",
     "output_type": "stream",
     "text": [
      "No handles with labels found to put in legend.\n"
     ]
    },
    {
     "data": {
      "image/png": "[encoded data removed]",
      "text/plain": [
       "<Figure size 1296x216 with 1 Axes>"
      ]
     },
     "metadata": {
      "needs_background": "light"
     },
     "output_type": "display_data"
    }
   ],
   "source": [
    "for feature in common_features:\n",
    "    kdeplot_features(df,test_df, feature=feature, title = feature + \" distribution\")"
   ]
  },
  {
   "cell_type": "code",
   "execution_count": 14,
   "id": "758af7ab-b3c7-4fff-a0c9-019b71beb335",
   "metadata": {},
   "outputs": [
    {
     "data": {
      "text/plain": [
       "array([[-0.02184829, -1.00127119, -0.02160637],\n",
       "       [-0.02184829, -1.02844142, -0.02160637],\n",
       "       [-0.02184829, -1.0719827 , -0.02160637],\n",
       "       [-0.02184829, -1.1188861 , -0.02160637],\n",
       "       [-0.02184829, -1.18948475, -0.02160637],\n",
       "       [-0.02184829, -1.2236406 , -0.02160637],\n",
       "       [-0.02184829, -1.26138429, -0.02160637],\n",
       "       [-0.02184829, -1.27401898, -0.02160637],\n",
       "       [ 0.18110817, -1.22831549,  0.20219895],\n",
       "       [ 0.55810319, -1.11446663,  0.61244853],\n",
       "       [ 0.89170991, -0.99782591,  0.96834531],\n",
       "       [ 0.900199  , -0.89548905,  0.96972341],\n",
       "       [ 0.91931345, -0.81966307,  0.98435915],\n",
       "       [ 1.07917337, -0.71627481,  1.14579133],\n",
       "       [ 0.77991127, -0.70905754,  0.82800835]])"
      ]
     },
     "execution_count": 14,
     "metadata": {},
     "output_type": "execute_result"
    }
   ],
   "source": [
    "sc = RobustScaler()\n",
    "df = sc.fit_transform(df[['Solar Radiance(w/m^2)','Temperature(C)','Solar Power(kW)']])\n",
    "df[:15]\n",
    "# df = df[['Solar Radiance(w/m^2)','Temperature(C)','Solar Power(kW)']]"
   ]
  },
  {
   "cell_type": "code",
   "execution_count": 15,
   "id": "b977625e-1f6f-4e8e-99d4-dbc35ef03e10",
   "metadata": {},
   "outputs": [],
   "source": [
    "# def sliding_windows(data, seq_length):\n",
    "#     x_list = []\n",
    "#     y_list = []\n",
    "\n",
    "#     for i in tqdm(range(len(data)-2*seq_length-1)):\n",
    "#         x = data[i:(i+seq_length)]\n",
    "#         y = data[(i+seq_length):(i+2*seq_length)]\n",
    "#         # x = data.iloc[i:(i+seq_length)]\n",
    "#         # y = data.iloc[i+seq_length:i+2*seq_length]\n",
    "#         x_list.append(x)\n",
    "#         y_list.append(y)\n",
    "\n",
    "#     return np.array(x_list),np.array(y_list)"
   ]
  },
  {
   "cell_type": "code",
   "execution_count": 19,
   "id": "0377c84b-04d8-4600-953f-18c181aa9cfa",
   "metadata": {
    "tags": []
   },
   "outputs": [
    {
     "data": {
      "application/vnd.jupyter.widget-view+json": {
       "model_id": "efc6bb17aea74933b5528f99ac48be14",
       "version_major": 2,
       "version_minor": 0
      },
      "text/plain": [
       "  0%|          | 0/105105 [00:00<?, ?it/s]"
      ]
     },
     "metadata": {},
     "output_type": "display_data"
    }
   ],
   "source": [
    "# train_x, train_y = sliding_windows(df, 7)"
   ]
  },
  {
   "cell_type": "code",
   "execution_count": 138,
   "id": "c6186566-5e7f-4913-b734-701aff7fcfc8",
   "metadata": {},
   "outputs": [],
   "source": [
    "split_idx = 96264\n",
    "train_data = df[:split_idx]"
   ]
  },
  {
   "cell_type": "code",
   "execution_count": 139,
   "id": "5e0831a9-701d-42b4-a2ff-1e1e6c3be328",
   "metadata": {},
   "outputs": [],
   "source": [
    "shift_hours = 24*7\n",
    "train_x, train_y = train_data[:-shift_hours], train_data[shift_hours:]"
   ]
  },
  {
   "cell_type": "code",
   "execution_count": 250,
   "id": "a517dd84-5313-4031-bb6a-171388e8db9a",
   "metadata": {
    "collapsed": true,
    "jupyter": {
     "outputs_hidden": true
    },
    "tags": []
   },
   "outputs": [
    {
     "ename": "ValueError",
     "evalue": "x and y must be the same size",
     "output_type": "error",
     "traceback": [
      "\u001b[0;31m---------------------------------------------------------------------------\u001b[0m",
      "\u001b[0;31mValueError\u001b[0m                                Traceback (most recent call last)",
      "\u001b[0;32m/tmp/ipykernel_33719/110091917.py\u001b[0m in \u001b[0;36m<module>\u001b[0;34m\u001b[0m\n\u001b[1;32m      1\u001b[0m \u001b[0;32mfor\u001b[0m \u001b[0mi\u001b[0m \u001b[0;32min\u001b[0m \u001b[0mrange\u001b[0m\u001b[0;34m(\u001b[0m\u001b[0;36m100\u001b[0m\u001b[0;34m,\u001b[0m\u001b[0;36m102\u001b[0m\u001b[0;34m)\u001b[0m\u001b[0;34m:\u001b[0m\u001b[0;34m\u001b[0m\u001b[0;34m\u001b[0m\u001b[0m\n\u001b[0;32m----> 2\u001b[0;31m     \u001b[0mplt\u001b[0m\u001b[0;34m.\u001b[0m\u001b[0mscatter\u001b[0m\u001b[0;34m(\u001b[0m\u001b[0mtrain_x\u001b[0m\u001b[0;34m.\u001b[0m\u001b[0mshape\u001b[0m\u001b[0;34m[\u001b[0m\u001b[0;36m1\u001b[0m\u001b[0;34m]\u001b[0m\u001b[0;34m,\u001b[0m \u001b[0mtrain_y\u001b[0m\u001b[0;34m[\u001b[0m\u001b[0mi\u001b[0m\u001b[0;34m]\u001b[0m\u001b[0;34m[\u001b[0m\u001b[0;36m0\u001b[0m\u001b[0;34m]\u001b[0m\u001b[0;34m,\u001b[0m \u001b[0mmarker\u001b[0m\u001b[0;34m=\u001b[0m\u001b[0;34m'x'\u001b[0m\u001b[0;34m,\u001b[0m \u001b[0mc\u001b[0m\u001b[0;34m=\u001b[0m\u001b[0;34m'red'\u001b[0m\u001b[0;34m)\u001b[0m\u001b[0;34m\u001b[0m\u001b[0;34m\u001b[0m\u001b[0m\n\u001b[0m\u001b[1;32m      3\u001b[0m     \u001b[0mplt\u001b[0m\u001b[0;34m.\u001b[0m\u001b[0mscatter\u001b[0m\u001b[0;34m(\u001b[0m\u001b[0mtrain_x\u001b[0m\u001b[0;34m.\u001b[0m\u001b[0mshape\u001b[0m\u001b[0;34m[\u001b[0m\u001b[0;36m1\u001b[0m\u001b[0;34m]\u001b[0m\u001b[0;34m,\u001b[0m \u001b[0mtrain_y\u001b[0m\u001b[0;34m[\u001b[0m\u001b[0mi\u001b[0m\u001b[0;34m]\u001b[0m\u001b[0;34m[\u001b[0m\u001b[0;36m1\u001b[0m\u001b[0;34m]\u001b[0m\u001b[0;34m,\u001b[0m \u001b[0mmarker\u001b[0m\u001b[0;34m=\u001b[0m\u001b[0;34m'o'\u001b[0m\u001b[0;34m,\u001b[0m \u001b[0mc\u001b[0m\u001b[0;34m=\u001b[0m\u001b[0;34m'blue'\u001b[0m\u001b[0;34m)\u001b[0m\u001b[0;34m\u001b[0m\u001b[0;34m\u001b[0m\u001b[0m\n\u001b[1;32m      4\u001b[0m     \u001b[0mplt\u001b[0m\u001b[0;34m.\u001b[0m\u001b[0mscatter\u001b[0m\u001b[0;34m(\u001b[0m\u001b[0mtrain_x\u001b[0m\u001b[0;34m.\u001b[0m\u001b[0mshape\u001b[0m\u001b[0;34m[\u001b[0m\u001b[0;36m1\u001b[0m\u001b[0;34m]\u001b[0m\u001b[0;34m,\u001b[0m \u001b[0mtrain_y\u001b[0m\u001b[0;34m[\u001b[0m\u001b[0mi\u001b[0m\u001b[0;34m]\u001b[0m\u001b[0;34m[\u001b[0m\u001b[0;36m2\u001b[0m\u001b[0;34m]\u001b[0m\u001b[0;34m,\u001b[0m \u001b[0mmarker\u001b[0m\u001b[0;34m=\u001b[0m\u001b[0;34m'x'\u001b[0m\u001b[0;34m,\u001b[0m \u001b[0mc\u001b[0m\u001b[0;34m=\u001b[0m\u001b[0;34m'black'\u001b[0m\u001b[0;34m)\u001b[0m\u001b[0;34m\u001b[0m\u001b[0;34m\u001b[0m\u001b[0m\n\u001b[1;32m      5\u001b[0m     \u001b[0mplot_data\u001b[0m\u001b[0;34m(\u001b[0m\u001b[0mtrain_x\u001b[0m\u001b[0;34m[\u001b[0m\u001b[0mi\u001b[0m\u001b[0;34m]\u001b[0m\u001b[0;34m,\u001b[0m \u001b[0mlabel\u001b[0m\u001b[0;34m=\u001b[0m\u001b[0;34m'Solar Power'\u001b[0m\u001b[0;34m)\u001b[0m\u001b[0;34m\u001b[0m\u001b[0;34m\u001b[0m\u001b[0m\n",
      "\u001b[0;32m/opt/conda/lib/python3.8/site-packages/matplotlib/pyplot.py\u001b[0m in \u001b[0;36mscatter\u001b[0;34m(x, y, s, c, marker, cmap, norm, vmin, vmax, alpha, linewidths, edgecolors, plotnonfinite, data, **kwargs)\u001b[0m\n\u001b[1;32m   3066\u001b[0m         \u001b[0mvmin\u001b[0m\u001b[0;34m=\u001b[0m\u001b[0;32mNone\u001b[0m\u001b[0;34m,\u001b[0m \u001b[0mvmax\u001b[0m\u001b[0;34m=\u001b[0m\u001b[0;32mNone\u001b[0m\u001b[0;34m,\u001b[0m \u001b[0malpha\u001b[0m\u001b[0;34m=\u001b[0m\u001b[0;32mNone\u001b[0m\u001b[0;34m,\u001b[0m \u001b[0mlinewidths\u001b[0m\u001b[0;34m=\u001b[0m\u001b[0;32mNone\u001b[0m\u001b[0;34m,\u001b[0m \u001b[0;34m*\u001b[0m\u001b[0;34m,\u001b[0m\u001b[0;34m\u001b[0m\u001b[0;34m\u001b[0m\u001b[0m\n\u001b[1;32m   3067\u001b[0m         edgecolors=None, plotnonfinite=False, data=None, **kwargs):\n\u001b[0;32m-> 3068\u001b[0;31m     __ret = gca().scatter(\n\u001b[0m\u001b[1;32m   3069\u001b[0m         \u001b[0mx\u001b[0m\u001b[0;34m,\u001b[0m \u001b[0my\u001b[0m\u001b[0;34m,\u001b[0m \u001b[0ms\u001b[0m\u001b[0;34m=\u001b[0m\u001b[0ms\u001b[0m\u001b[0;34m,\u001b[0m \u001b[0mc\u001b[0m\u001b[0;34m=\u001b[0m\u001b[0mc\u001b[0m\u001b[0;34m,\u001b[0m \u001b[0mmarker\u001b[0m\u001b[0;34m=\u001b[0m\u001b[0mmarker\u001b[0m\u001b[0;34m,\u001b[0m \u001b[0mcmap\u001b[0m\u001b[0;34m=\u001b[0m\u001b[0mcmap\u001b[0m\u001b[0;34m,\u001b[0m \u001b[0mnorm\u001b[0m\u001b[0;34m=\u001b[0m\u001b[0mnorm\u001b[0m\u001b[0;34m,\u001b[0m\u001b[0;34m\u001b[0m\u001b[0;34m\u001b[0m\u001b[0m\n\u001b[1;32m   3070\u001b[0m         \u001b[0mvmin\u001b[0m\u001b[0;34m=\u001b[0m\u001b[0mvmin\u001b[0m\u001b[0;34m,\u001b[0m \u001b[0mvmax\u001b[0m\u001b[0;34m=\u001b[0m\u001b[0mvmax\u001b[0m\u001b[0;34m,\u001b[0m \u001b[0malpha\u001b[0m\u001b[0;34m=\u001b[0m\u001b[0malpha\u001b[0m\u001b[0;34m,\u001b[0m \u001b[0mlinewidths\u001b[0m\u001b[0;34m=\u001b[0m\u001b[0mlinewidths\u001b[0m\u001b[0;34m,\u001b[0m\u001b[0;34m\u001b[0m\u001b[0;34m\u001b[0m\u001b[0m\n",
      "\u001b[0;32m/opt/conda/lib/python3.8/site-packages/matplotlib/__init__.py\u001b[0m in \u001b[0;36minner\u001b[0;34m(ax, data, *args, **kwargs)\u001b[0m\n\u001b[1;32m   1359\u001b[0m     \u001b[0;32mdef\u001b[0m \u001b[0minner\u001b[0m\u001b[0;34m(\u001b[0m\u001b[0max\u001b[0m\u001b[0;34m,\u001b[0m \u001b[0;34m*\u001b[0m\u001b[0margs\u001b[0m\u001b[0;34m,\u001b[0m \u001b[0mdata\u001b[0m\u001b[0;34m=\u001b[0m\u001b[0;32mNone\u001b[0m\u001b[0;34m,\u001b[0m \u001b[0;34m**\u001b[0m\u001b[0mkwargs\u001b[0m\u001b[0;34m)\u001b[0m\u001b[0;34m:\u001b[0m\u001b[0;34m\u001b[0m\u001b[0;34m\u001b[0m\u001b[0m\n\u001b[1;32m   1360\u001b[0m         \u001b[0;32mif\u001b[0m \u001b[0mdata\u001b[0m \u001b[0;32mis\u001b[0m \u001b[0;32mNone\u001b[0m\u001b[0;34m:\u001b[0m\u001b[0;34m\u001b[0m\u001b[0;34m\u001b[0m\u001b[0m\n\u001b[0;32m-> 1361\u001b[0;31m             \u001b[0;32mreturn\u001b[0m \u001b[0mfunc\u001b[0m\u001b[0;34m(\u001b[0m\u001b[0max\u001b[0m\u001b[0;34m,\u001b[0m \u001b[0;34m*\u001b[0m\u001b[0mmap\u001b[0m\u001b[0;34m(\u001b[0m\u001b[0msanitize_sequence\u001b[0m\u001b[0;34m,\u001b[0m \u001b[0margs\u001b[0m\u001b[0;34m)\u001b[0m\u001b[0;34m,\u001b[0m \u001b[0;34m**\u001b[0m\u001b[0mkwargs\u001b[0m\u001b[0;34m)\u001b[0m\u001b[0;34m\u001b[0m\u001b[0;34m\u001b[0m\u001b[0m\n\u001b[0m\u001b[1;32m   1362\u001b[0m \u001b[0;34m\u001b[0m\u001b[0m\n\u001b[1;32m   1363\u001b[0m         \u001b[0mbound\u001b[0m \u001b[0;34m=\u001b[0m \u001b[0mnew_sig\u001b[0m\u001b[0;34m.\u001b[0m\u001b[0mbind\u001b[0m\u001b[0;34m(\u001b[0m\u001b[0max\u001b[0m\u001b[0;34m,\u001b[0m \u001b[0;34m*\u001b[0m\u001b[0margs\u001b[0m\u001b[0;34m,\u001b[0m \u001b[0;34m**\u001b[0m\u001b[0mkwargs\u001b[0m\u001b[0;34m)\u001b[0m\u001b[0;34m\u001b[0m\u001b[0;34m\u001b[0m\u001b[0m\n",
      "\u001b[0;32m/opt/conda/lib/python3.8/site-packages/matplotlib/axes/_axes.py\u001b[0m in \u001b[0;36mscatter\u001b[0;34m(self, x, y, s, c, marker, cmap, norm, vmin, vmax, alpha, linewidths, edgecolors, plotnonfinite, **kwargs)\u001b[0m\n\u001b[1;32m   4496\u001b[0m         \u001b[0my\u001b[0m \u001b[0;34m=\u001b[0m \u001b[0mnp\u001b[0m\u001b[0;34m.\u001b[0m\u001b[0mma\u001b[0m\u001b[0;34m.\u001b[0m\u001b[0mravel\u001b[0m\u001b[0;34m(\u001b[0m\u001b[0my\u001b[0m\u001b[0;34m)\u001b[0m\u001b[0;34m\u001b[0m\u001b[0;34m\u001b[0m\u001b[0m\n\u001b[1;32m   4497\u001b[0m         \u001b[0;32mif\u001b[0m \u001b[0mx\u001b[0m\u001b[0;34m.\u001b[0m\u001b[0msize\u001b[0m \u001b[0;34m!=\u001b[0m \u001b[0my\u001b[0m\u001b[0;34m.\u001b[0m\u001b[0msize\u001b[0m\u001b[0;34m:\u001b[0m\u001b[0;34m\u001b[0m\u001b[0;34m\u001b[0m\u001b[0m\n\u001b[0;32m-> 4498\u001b[0;31m             \u001b[0;32mraise\u001b[0m \u001b[0mValueError\u001b[0m\u001b[0;34m(\u001b[0m\u001b[0;34m\"x and y must be the same size\"\u001b[0m\u001b[0;34m)\u001b[0m\u001b[0;34m\u001b[0m\u001b[0;34m\u001b[0m\u001b[0m\n\u001b[0m\u001b[1;32m   4499\u001b[0m \u001b[0;34m\u001b[0m\u001b[0m\n\u001b[1;32m   4500\u001b[0m         \u001b[0;32mif\u001b[0m \u001b[0ms\u001b[0m \u001b[0;32mis\u001b[0m \u001b[0;32mNone\u001b[0m\u001b[0;34m:\u001b[0m\u001b[0;34m\u001b[0m\u001b[0;34m\u001b[0m\u001b[0m\n",
      "\u001b[0;31mValueError\u001b[0m: x and y must be the same size"
     ]
    },
    {
     "data": {
      "image/png": "[encoded data removed]",
      "text/plain": [
       "<Figure size 432x288 with 1 Axes>"
      ]
     },
     "metadata": {
      "needs_background": "light"
     },
     "output_type": "display_data"
    }
   ],
   "source": [
    "for i in range(100,102):\n",
    "    plt.scatter(train_x.shape[1], train_y[i][0], marker='x', c='red')\n",
    "    plt.scatter(train_x.shape[1], train_y[i][1], marker='o', c='blue')\n",
    "    plt.scatter(train_x.shape[1], train_y[i][2], marker='x', c='black')\n",
    "    plot_data(train_x[i], label='Solar Power')\n",
    "    # plot_data(train_x[i][1], label='Solar Power2')\n",
    "    # plot_data(train_x[i][2], label='Solar Power3')"
   ]
  },
  {
   "cell_type": "code",
   "execution_count": 140,
   "id": "ead53a95-4924-4dd3-b68d-d36a98a2f749",
   "metadata": {},
   "outputs": [
    {
     "name": "stdout",
     "output_type": "stream",
     "text": [
      "(96096, 3) (96096, 3)\n"
     ]
    }
   ],
   "source": [
    "print(train_x.shape, train_y.shape)"
   ]
  },
  {
   "cell_type": "code",
   "execution_count": 141,
   "id": "37111b97-95ca-42b6-83c6-d23eec50168b",
   "metadata": {},
   "outputs": [],
   "source": [
    "train_x = train_x.reshape(int(train_x.shape[0]/shift_hours),shift_hours,3)\n",
    "train_y = train_y.reshape(int(train_y.shape[0]/shift_hours),shift_hours,3)"
   ]
  },
  {
   "cell_type": "code",
   "execution_count": 72,
   "id": "a1e492fa-3251-43d4-9413-85960a86c647",
   "metadata": {},
   "outputs": [
    {
     "name": "stdout",
     "output_type": "stream",
     "text": [
      "(572, 168, 3) (572, 168, 3)\n"
     ]
    }
   ],
   "source": [
    "print(train_x.shape, train_y.shape)"
   ]
  },
  {
   "cell_type": "code",
   "execution_count": 143,
   "id": "6350feed-b55f-444f-83ad-42a6a7d33449",
   "metadata": {},
   "outputs": [],
   "source": [
    "training_set_size = 500\n",
    "# train_X = torch.tensor(train_x[:training_set_size], dtype=torch.float32)\n",
    "# train_Y = torch.tensor(train_y[:training_set_size], dtype=torch.float32)\n",
    "\n",
    "# valid_X = torch.tensor(train_x[training_set_size:], dtype=torch.float32)\n",
    "# valid_Y = torch.tensor(train_y[training_set_size:], dtype=torch.float32)\n",
    "\n",
    "train_X = train_x[:training_set_size].astype(float)\n",
    "train_Y = train_y[:training_set_size].astype(float)\n",
    "\n",
    "valid_X = train_x[training_set_size:].astype(float)\n",
    "valid_Y = train_y[training_set_size:].astype(float)"
   ]
  },
  {
   "cell_type": "code",
   "execution_count": 144,
   "id": "ed421ddb-a170-4181-a2c3-89b9e544195c",
   "metadata": {},
   "outputs": [
    {
     "name": "stdout",
     "output_type": "stream",
     "text": [
      "500 72\n",
      "572\n"
     ]
    }
   ],
   "source": [
    "print(len(train_X), len(valid_X))\n",
    "print(len(train_X)+len(valid_X))"
   ]
  },
  {
   "cell_type": "code",
   "execution_count": 126,
   "id": "9d2fe81f-a69e-46bd-9e65-a61c7fbceebb",
   "metadata": {},
   "outputs": [],
   "source": [
    "class simple_dataset(Dataset):\n",
    "    def __init__(self, x, y):\n",
    "        super(simple_dataset, self).__init__()\n",
    "        \n",
    "        self.x = x\n",
    "        self.y = y\n",
    "        \n",
    "    def __getitem__(self, idx):\n",
    "        return self.x[idx], self.y[idx]\n",
    "\n",
    "    def __len__(self):\n",
    "        return len(self.y)"
   ]
  },
  {
   "cell_type": "code",
   "execution_count": 127,
   "id": "a972e084-2da4-4ddc-8c0b-d5c9c879c56d",
   "metadata": {},
   "outputs": [],
   "source": [
    "train_set = simple_dataset(train_X, train_Y)\n",
    "test_set = simple_dataset(valid_X, valid_Y)\n",
    "train_loader = DataLoader(dataset=train_set, batch_size=16, num_workers=2, shuffle=True)\n",
    "test_loader = DataLoader(dataset=test_set, batch_size=1, num_workers=2, shuffle=False)"
   ]
  },
  {
   "cell_type": "code",
   "execution_count": 128,
   "id": "7f44c574-0221-4af8-9e73-a7f5fe32cd66",
   "metadata": {},
   "outputs": [],
   "source": [
    "class GRU_model(nn.Module):\n",
    "    def __init__(self, output_size, input_size, hidden_size, num_layers):\n",
    "        super(GRU_model, self).__init__()\n",
    "        \n",
    "        self.num_layers = num_layers\n",
    "        self.hidden_size = hidden_size\n",
    "        self.activation = nn.LeakyReLU(0.2)\n",
    "        # Layers\n",
    "        self.gru = nn.GRU(input_size=input_size, hidden_size=hidden_size,\n",
    "                            num_layers=num_layers, batch_first=True, dropout=0.2)\n",
    "        self.fc = nn.Linear(hidden_size, output_size)\n",
    "\n",
    "    def forward(self, x):\n",
    "        h_0 = torch.zeros(self.num_layers, x.shape[0], self.hidden_size).cuda()\n",
    "        \n",
    "        _, h_out = self.gru(x, h_0)\n",
    "        h_out = h_out[-1]\n",
    "        # h_out = self.activation(h_out)\n",
    "        out = self.fc(h_out)\n",
    "        # print(out.size())\n",
    "        return out"
   ]
  },
  {
   "cell_type": "code",
   "execution_count": 129,
   "id": "42eb5045-4eee-4354-8e45-c501547cd143",
   "metadata": {},
   "outputs": [],
   "source": [
    "device = torch.device('cuda' if torch.cuda.is_available() else 'cpu')"
   ]
  },
  {
   "cell_type": "code",
   "execution_count": 130,
   "id": "e10fdbaa-b200-457a-8ad8-6d37a3e5daf1",
   "metadata": {},
   "outputs": [],
   "source": [
    "num_epochs = 5\n",
    "learning_rate = 1e-4\n",
    "\n",
    "output_size = 3*168\n",
    "input_size = 3*168\n",
    "hidden_size = 1024\n",
    "num_layers = 3\n",
    "\n",
    "model = GRU_model(output_size, input_size, hidden_size, num_layers)\n",
    "criterion = torch.nn.MSELoss()\n",
    "optimizer = torch.optim.Adam(model.parameters(), lr=learning_rate)"
   ]
  },
  {
   "cell_type": "code",
   "execution_count": 131,
   "id": "d84e3495-f286-4f4b-99ab-16ecbfd1531d",
   "metadata": {
    "collapsed": true,
    "jupyter": {
     "outputs_hidden": true
    },
    "tags": []
   },
   "outputs": [
    {
     "data": {
      "application/vnd.jupyter.widget-view+json": {
       "model_id": "6dbf97d8f85b45b4a27d0ae6870b0700",
       "version_major": 2,
       "version_minor": 0
      },
      "text/plain": [
       "  0%|          | 0/5 [00:00<?, ?it/s]"
      ]
     },
     "metadata": {},
     "output_type": "display_data"
    },
    {
     "data": {
      "application/vnd.jupyter.widget-view+json": {
       "model_id": "f4caea6617274705a1a57e561b1f4be3",
       "version_major": 2,
       "version_minor": 0
      },
      "text/plain": [
       "0it [00:00, ?it/s]"
      ]
     },
     "metadata": {},
     "output_type": "display_data"
    },
    {
     "name": "stdout",
     "output_type": "stream",
     "text": [
      "torch.Size([16, 1, 504]) torch.Size([16, 1, 504])\n",
      "Epoch: 0, loss: 0.65611\n",
      "torch.Size([16, 1, 504]) torch.Size([16, 1, 504])\n",
      "torch.Size([16, 1, 504]) torch.Size([16, 1, 504])\n",
      "torch.Size([16, 1, 504]) torch.Size([16, 1, 504])\n",
      "torch.Size([16, 1, 504]) torch.Size([16, 1, 504])\n",
      "torch.Size([16, 1, 504]) torch.Size([16, 1, 504])\n",
      "torch.Size([16, 1, 504]) torch.Size([16, 1, 504])\n",
      "torch.Size([16, 1, 504]) torch.Size([16, 1, 504])\n",
      "torch.Size([16, 1, 504]) torch.Size([16, 1, 504])\n",
      "torch.Size([16, 1, 504]) torch.Size([16, 1, 504])\n",
      "torch.Size([16, 1, 504]) torch.Size([16, 1, 504])\n",
      "torch.Size([16, 1, 504]) torch.Size([16, 1, 504])\n",
      "torch.Size([16, 1, 504]) torch.Size([16, 1, 504])\n",
      "torch.Size([16, 1, 504]) torch.Size([16, 1, 504])\n",
      "torch.Size([16, 1, 504]) torch.Size([16, 1, 504])\n",
      "torch.Size([16, 1, 504]) torch.Size([16, 1, 504])\n",
      "torch.Size([16, 1, 504]) torch.Size([16, 1, 504])\n",
      "torch.Size([16, 1, 504]) torch.Size([16, 1, 504])\n",
      "torch.Size([16, 1, 504]) torch.Size([16, 1, 504])\n",
      "torch.Size([16, 1, 504]) torch.Size([16, 1, 504])\n",
      "torch.Size([16, 1, 504]) torch.Size([16, 1, 504])\n",
      "torch.Size([16, 1, 504]) torch.Size([16, 1, 504])\n",
      "torch.Size([16, 1, 504]) torch.Size([16, 1, 504])\n",
      "torch.Size([16, 1, 504]) torch.Size([16, 1, 504])\n",
      "torch.Size([16, 1, 504]) torch.Size([16, 1, 504])\n",
      "torch.Size([16, 1, 504]) torch.Size([16, 1, 504])\n",
      "torch.Size([16, 1, 504]) torch.Size([16, 1, 504])\n",
      "torch.Size([16, 1, 504]) torch.Size([16, 1, 504])\n",
      "torch.Size([16, 1, 504]) torch.Size([16, 1, 504])\n",
      "torch.Size([16, 1, 504]) torch.Size([16, 1, 504])\n",
      "torch.Size([16, 1, 504]) torch.Size([16, 1, 504])\n",
      "torch.Size([16, 1, 126]) torch.Size([16, 1, 126])\n"
     ]
    },
    {
     "ename": "RuntimeError",
     "evalue": "input.size(-1) must be equal to input_size. Expected 504, got 126",
     "output_type": "error",
     "traceback": [
      "\u001b[0;31m---------------------------------------------------------------------------\u001b[0m",
      "\u001b[0;31mRuntimeError\u001b[0m                              Traceback (most recent call last)",
      "\u001b[0;32m/tmp/ipykernel_35657/1966229935.py\u001b[0m in \u001b[0;36m<module>\u001b[0;34m\u001b[0m\n\u001b[1;32m      8\u001b[0m         \u001b[0mlabel\u001b[0m \u001b[0;34m=\u001b[0m \u001b[0mlabel\u001b[0m\u001b[0;34m.\u001b[0m\u001b[0mcuda\u001b[0m\u001b[0;34m(\u001b[0m\u001b[0;34m)\u001b[0m\u001b[0;34m\u001b[0m\u001b[0;34m\u001b[0m\u001b[0m\n\u001b[1;32m      9\u001b[0m         \u001b[0mprint\u001b[0m\u001b[0;34m(\u001b[0m\u001b[0minput_seq\u001b[0m\u001b[0;34m.\u001b[0m\u001b[0msize\u001b[0m\u001b[0;34m(\u001b[0m\u001b[0;34m)\u001b[0m\u001b[0;34m,\u001b[0m\u001b[0mlabel\u001b[0m\u001b[0;34m.\u001b[0m\u001b[0msize\u001b[0m\u001b[0;34m(\u001b[0m\u001b[0;34m)\u001b[0m\u001b[0;34m)\u001b[0m\u001b[0;34m\u001b[0m\u001b[0;34m\u001b[0m\u001b[0m\n\u001b[0;32m---> 10\u001b[0;31m         \u001b[0mpreds\u001b[0m \u001b[0;34m=\u001b[0m \u001b[0mmodel\u001b[0m\u001b[0;34m(\u001b[0m\u001b[0minput_seq\u001b[0m\u001b[0;34m)\u001b[0m\u001b[0;34m\u001b[0m\u001b[0;34m\u001b[0m\u001b[0m\n\u001b[0m\u001b[1;32m     11\u001b[0m         \u001b[0mloss\u001b[0m \u001b[0;34m=\u001b[0m \u001b[0mcriterion\u001b[0m\u001b[0;34m(\u001b[0m\u001b[0mpreds\u001b[0m\u001b[0;34m,\u001b[0m \u001b[0mlabel\u001b[0m\u001b[0;34m)\u001b[0m\u001b[0;34m\u001b[0m\u001b[0;34m\u001b[0m\u001b[0m\n\u001b[1;32m     12\u001b[0m \u001b[0;34m\u001b[0m\u001b[0m\n",
      "\u001b[0;32m/opt/conda/lib/python3.8/site-packages/torch/nn/modules/module.py\u001b[0m in \u001b[0;36m_call_impl\u001b[0;34m(self, *input, **kwargs)\u001b[0m\n\u001b[1;32m    720\u001b[0m             \u001b[0mresult\u001b[0m \u001b[0;34m=\u001b[0m \u001b[0mself\u001b[0m\u001b[0;34m.\u001b[0m\u001b[0m_slow_forward\u001b[0m\u001b[0;34m(\u001b[0m\u001b[0;34m*\u001b[0m\u001b[0minput\u001b[0m\u001b[0;34m,\u001b[0m \u001b[0;34m**\u001b[0m\u001b[0mkwargs\u001b[0m\u001b[0;34m)\u001b[0m\u001b[0;34m\u001b[0m\u001b[0;34m\u001b[0m\u001b[0m\n\u001b[1;32m    721\u001b[0m         \u001b[0;32melse\u001b[0m\u001b[0;34m:\u001b[0m\u001b[0;34m\u001b[0m\u001b[0;34m\u001b[0m\u001b[0m\n\u001b[0;32m--> 722\u001b[0;31m             \u001b[0mresult\u001b[0m \u001b[0;34m=\u001b[0m \u001b[0mself\u001b[0m\u001b[0;34m.\u001b[0m\u001b[0mforward\u001b[0m\u001b[0;34m(\u001b[0m\u001b[0;34m*\u001b[0m\u001b[0minput\u001b[0m\u001b[0;34m,\u001b[0m \u001b[0;34m**\u001b[0m\u001b[0mkwargs\u001b[0m\u001b[0;34m)\u001b[0m\u001b[0;34m\u001b[0m\u001b[0;34m\u001b[0m\u001b[0m\n\u001b[0m\u001b[1;32m    723\u001b[0m         for hook in itertools.chain(\n\u001b[1;32m    724\u001b[0m                 \u001b[0m_global_forward_hooks\u001b[0m\u001b[0;34m.\u001b[0m\u001b[0mvalues\u001b[0m\u001b[0;34m(\u001b[0m\u001b[0;34m)\u001b[0m\u001b[0;34m,\u001b[0m\u001b[0;34m\u001b[0m\u001b[0;34m\u001b[0m\u001b[0m\n",
      "\u001b[0;32m/tmp/ipykernel_35657/1497932538.py\u001b[0m in \u001b[0;36mforward\u001b[0;34m(self, x)\u001b[0m\n\u001b[1;32m     14\u001b[0m         \u001b[0mh_0\u001b[0m \u001b[0;34m=\u001b[0m \u001b[0mtorch\u001b[0m\u001b[0;34m.\u001b[0m\u001b[0mzeros\u001b[0m\u001b[0;34m(\u001b[0m\u001b[0mself\u001b[0m\u001b[0;34m.\u001b[0m\u001b[0mnum_layers\u001b[0m\u001b[0;34m,\u001b[0m \u001b[0mx\u001b[0m\u001b[0;34m.\u001b[0m\u001b[0mshape\u001b[0m\u001b[0;34m[\u001b[0m\u001b[0;36m0\u001b[0m\u001b[0;34m]\u001b[0m\u001b[0;34m,\u001b[0m \u001b[0mself\u001b[0m\u001b[0;34m.\u001b[0m\u001b[0mhidden_size\u001b[0m\u001b[0;34m)\u001b[0m\u001b[0;34m.\u001b[0m\u001b[0mcuda\u001b[0m\u001b[0;34m(\u001b[0m\u001b[0;34m)\u001b[0m\u001b[0;34m\u001b[0m\u001b[0;34m\u001b[0m\u001b[0m\n\u001b[1;32m     15\u001b[0m \u001b[0;34m\u001b[0m\u001b[0m\n\u001b[0;32m---> 16\u001b[0;31m         \u001b[0m_\u001b[0m\u001b[0;34m,\u001b[0m \u001b[0mh_out\u001b[0m \u001b[0;34m=\u001b[0m \u001b[0mself\u001b[0m\u001b[0;34m.\u001b[0m\u001b[0mgru\u001b[0m\u001b[0;34m(\u001b[0m\u001b[0mx\u001b[0m\u001b[0;34m,\u001b[0m \u001b[0mh_0\u001b[0m\u001b[0;34m)\u001b[0m\u001b[0;34m\u001b[0m\u001b[0;34m\u001b[0m\u001b[0m\n\u001b[0m\u001b[1;32m     17\u001b[0m         \u001b[0mh_out\u001b[0m \u001b[0;34m=\u001b[0m \u001b[0mh_out\u001b[0m\u001b[0;34m[\u001b[0m\u001b[0;34m-\u001b[0m\u001b[0;36m1\u001b[0m\u001b[0;34m]\u001b[0m\u001b[0;34m\u001b[0m\u001b[0;34m\u001b[0m\u001b[0m\n\u001b[1;32m     18\u001b[0m         \u001b[0;31m# h_out = self.activation(h_out)\u001b[0m\u001b[0;34m\u001b[0m\u001b[0;34m\u001b[0m\u001b[0;34m\u001b[0m\u001b[0m\n",
      "\u001b[0;32m/opt/conda/lib/python3.8/site-packages/torch/nn/modules/module.py\u001b[0m in \u001b[0;36m_call_impl\u001b[0;34m(self, *input, **kwargs)\u001b[0m\n\u001b[1;32m    720\u001b[0m             \u001b[0mresult\u001b[0m \u001b[0;34m=\u001b[0m \u001b[0mself\u001b[0m\u001b[0;34m.\u001b[0m\u001b[0m_slow_forward\u001b[0m\u001b[0;34m(\u001b[0m\u001b[0;34m*\u001b[0m\u001b[0minput\u001b[0m\u001b[0;34m,\u001b[0m \u001b[0;34m**\u001b[0m\u001b[0mkwargs\u001b[0m\u001b[0;34m)\u001b[0m\u001b[0;34m\u001b[0m\u001b[0;34m\u001b[0m\u001b[0m\n\u001b[1;32m    721\u001b[0m         \u001b[0;32melse\u001b[0m\u001b[0;34m:\u001b[0m\u001b[0;34m\u001b[0m\u001b[0;34m\u001b[0m\u001b[0m\n\u001b[0;32m--> 722\u001b[0;31m             \u001b[0mresult\u001b[0m \u001b[0;34m=\u001b[0m \u001b[0mself\u001b[0m\u001b[0;34m.\u001b[0m\u001b[0mforward\u001b[0m\u001b[0;34m(\u001b[0m\u001b[0;34m*\u001b[0m\u001b[0minput\u001b[0m\u001b[0;34m,\u001b[0m \u001b[0;34m**\u001b[0m\u001b[0mkwargs\u001b[0m\u001b[0;34m)\u001b[0m\u001b[0;34m\u001b[0m\u001b[0;34m\u001b[0m\u001b[0m\n\u001b[0m\u001b[1;32m    723\u001b[0m         for hook in itertools.chain(\n\u001b[1;32m    724\u001b[0m                 \u001b[0m_global_forward_hooks\u001b[0m\u001b[0;34m.\u001b[0m\u001b[0mvalues\u001b[0m\u001b[0;34m(\u001b[0m\u001b[0;34m)\u001b[0m\u001b[0;34m,\u001b[0m\u001b[0;34m\u001b[0m\u001b[0;34m\u001b[0m\u001b[0m\n",
      "\u001b[0;32m/opt/conda/lib/python3.8/site-packages/torch/nn/modules/rnn.py\u001b[0m in \u001b[0;36mforward\u001b[0;34m(self, input, hx)\u001b[0m\n\u001b[1;32m    730\u001b[0m             \u001b[0mhx\u001b[0m \u001b[0;34m=\u001b[0m \u001b[0mself\u001b[0m\u001b[0;34m.\u001b[0m\u001b[0mpermute_hidden\u001b[0m\u001b[0;34m(\u001b[0m\u001b[0mhx\u001b[0m\u001b[0;34m,\u001b[0m \u001b[0msorted_indices\u001b[0m\u001b[0;34m)\u001b[0m\u001b[0;34m\u001b[0m\u001b[0;34m\u001b[0m\u001b[0m\n\u001b[1;32m    731\u001b[0m \u001b[0;34m\u001b[0m\u001b[0m\n\u001b[0;32m--> 732\u001b[0;31m         \u001b[0mself\u001b[0m\u001b[0;34m.\u001b[0m\u001b[0mcheck_forward_args\u001b[0m\u001b[0;34m(\u001b[0m\u001b[0minput\u001b[0m\u001b[0;34m,\u001b[0m \u001b[0mhx\u001b[0m\u001b[0;34m,\u001b[0m \u001b[0mbatch_sizes\u001b[0m\u001b[0;34m)\u001b[0m\u001b[0;34m\u001b[0m\u001b[0;34m\u001b[0m\u001b[0m\n\u001b[0m\u001b[1;32m    733\u001b[0m         \u001b[0;32mif\u001b[0m \u001b[0mbatch_sizes\u001b[0m \u001b[0;32mis\u001b[0m \u001b[0;32mNone\u001b[0m\u001b[0;34m:\u001b[0m\u001b[0;34m\u001b[0m\u001b[0;34m\u001b[0m\u001b[0m\n\u001b[1;32m    734\u001b[0m             result = _VF.gru(input, hx, self._flat_weights, self.bias, self.num_layers,\n",
      "\u001b[0;32m/opt/conda/lib/python3.8/site-packages/torch/nn/modules/rnn.py\u001b[0m in \u001b[0;36mcheck_forward_args\u001b[0;34m(self, input, hidden, batch_sizes)\u001b[0m\n\u001b[1;32m    196\u001b[0m \u001b[0;34m\u001b[0m\u001b[0m\n\u001b[1;32m    197\u001b[0m     \u001b[0;32mdef\u001b[0m \u001b[0mcheck_forward_args\u001b[0m\u001b[0;34m(\u001b[0m\u001b[0mself\u001b[0m\u001b[0;34m,\u001b[0m \u001b[0minput\u001b[0m\u001b[0;34m:\u001b[0m \u001b[0mTensor\u001b[0m\u001b[0;34m,\u001b[0m \u001b[0mhidden\u001b[0m\u001b[0;34m:\u001b[0m \u001b[0mTensor\u001b[0m\u001b[0;34m,\u001b[0m \u001b[0mbatch_sizes\u001b[0m\u001b[0;34m:\u001b[0m \u001b[0mOptional\u001b[0m\u001b[0;34m[\u001b[0m\u001b[0mTensor\u001b[0m\u001b[0;34m]\u001b[0m\u001b[0;34m)\u001b[0m\u001b[0;34m:\u001b[0m\u001b[0;34m\u001b[0m\u001b[0;34m\u001b[0m\u001b[0m\n\u001b[0;32m--> 198\u001b[0;31m         \u001b[0mself\u001b[0m\u001b[0;34m.\u001b[0m\u001b[0mcheck_input\u001b[0m\u001b[0;34m(\u001b[0m\u001b[0minput\u001b[0m\u001b[0;34m,\u001b[0m \u001b[0mbatch_sizes\u001b[0m\u001b[0;34m)\u001b[0m\u001b[0;34m\u001b[0m\u001b[0;34m\u001b[0m\u001b[0m\n\u001b[0m\u001b[1;32m    199\u001b[0m         \u001b[0mexpected_hidden_size\u001b[0m \u001b[0;34m=\u001b[0m \u001b[0mself\u001b[0m\u001b[0;34m.\u001b[0m\u001b[0mget_expected_hidden_size\u001b[0m\u001b[0;34m(\u001b[0m\u001b[0minput\u001b[0m\u001b[0;34m,\u001b[0m \u001b[0mbatch_sizes\u001b[0m\u001b[0;34m)\u001b[0m\u001b[0;34m\u001b[0m\u001b[0;34m\u001b[0m\u001b[0m\n\u001b[1;32m    200\u001b[0m \u001b[0;34m\u001b[0m\u001b[0m\n",
      "\u001b[0;32m/opt/conda/lib/python3.8/site-packages/torch/nn/modules/rnn.py\u001b[0m in \u001b[0;36mcheck_input\u001b[0;34m(self, input, batch_sizes)\u001b[0m\n\u001b[1;32m    175\u001b[0m                     expected_input_dim, input.dim()))\n\u001b[1;32m    176\u001b[0m         \u001b[0;32mif\u001b[0m \u001b[0mself\u001b[0m\u001b[0;34m.\u001b[0m\u001b[0minput_size\u001b[0m \u001b[0;34m!=\u001b[0m \u001b[0minput\u001b[0m\u001b[0;34m.\u001b[0m\u001b[0msize\u001b[0m\u001b[0;34m(\u001b[0m\u001b[0;34m-\u001b[0m\u001b[0;36m1\u001b[0m\u001b[0;34m)\u001b[0m\u001b[0;34m:\u001b[0m\u001b[0;34m\u001b[0m\u001b[0;34m\u001b[0m\u001b[0m\n\u001b[0;32m--> 177\u001b[0;31m             raise RuntimeError(\n\u001b[0m\u001b[1;32m    178\u001b[0m                 'input.size(-1) must be equal to input_size. Expected {}, got {}'.format(\n\u001b[1;32m    179\u001b[0m                     self.input_size, input.size(-1)))\n",
      "\u001b[0;31mRuntimeError\u001b[0m: input.size(-1) must be equal to input_size. Expected 504, got 126"
     ]
    }
   ],
   "source": [
    "model = model.cuda()\n",
    "train_loss_list = []\n",
    "for epoch in tqdm(range(num_epochs)):\n",
    "    for batch_ep, (input_seq, label) in tqdm(enumerate(train_loader)):\n",
    "        input_seq = input_seq.reshape(16,1,-1)\n",
    "        label = label.reshape(16,1,-1)\n",
    "        input_seq = input_seq.cuda()\n",
    "        label = label.cuda()\n",
    "        print(input_seq.size(),label.size())\n",
    "        preds = model(input_seq)\n",
    "        loss = criterion(preds, label)\n",
    "        \n",
    "        optimizer.zero_grad()\n",
    "        loss.backward()\n",
    "        optimizer.step()\n",
    "\n",
    "        train_loss_list.append(loss)\n",
    "        if batch_ep % 1000 == 0:\n",
    "            print(\"Epoch: %d, loss: %1.5f\" % (epoch, loss.item()))"
   ]
  },
  {
   "cell_type": "code",
   "execution_count": 155,
   "id": "9d4cf94e-cf48-4257-a2de-fb38f3a975a8",
   "metadata": {
    "collapsed": true,
    "jupyter": {
     "outputs_hidden": true
    },
    "tags": []
   },
   "outputs": [
    {
     "name": "stdout",
     "output_type": "stream",
     "text": [
      "Model: \"sequential\"\n",
      "_________________________________________________________________\n",
      " Layer (type)                Output Shape              Param #   \n",
      "=================================================================\n",
      " gru (GRU)                   (None, 168, 20)           1500      \n",
      "                                                                 \n",
      " dense (Dense)               (None, 168, 3)            63        \n",
      "                                                                 \n",
      "=================================================================\n",
      "Total params: 1,563\n",
      "Trainable params: 1,563\n",
      "Non-trainable params: 0\n",
      "_________________________________________________________________\n",
      "Epoch 1/50\n",
      "32/32 [==============================] - 5s 117ms/step - loss: 0.1553 - accuracy: 0.4380 - val_loss: 0.0647 - val_accuracy: 0.7143\n",
      "Epoch 2/50\n",
      "32/32 [==============================] - 4s 129ms/step - loss: 0.0870 - accuracy: 0.6179 - val_loss: 0.0611 - val_accuracy: 0.6503\n",
      "Epoch 3/50\n",
      "32/32 [==============================] - 4s 128ms/step - loss: 0.0745 - accuracy: 0.6166 - val_loss: 0.0624 - val_accuracy: 0.6515\n",
      "Epoch 4/50\n",
      "32/32 [==============================] - 4s 132ms/step - loss: 0.0672 - accuracy: 0.6434 - val_loss: 0.0656 - val_accuracy: 0.7622\n",
      "Epoch 5/50\n",
      "32/32 [==============================] - 4s 133ms/step - loss: 0.0626 - accuracy: 0.6440 - val_loss: 0.0531 - val_accuracy: 0.7966\n",
      "Epoch 6/50\n",
      "32/32 [==============================] - 4s 126ms/step - loss: 0.0592 - accuracy: 0.6714 - val_loss: 0.0578 - val_accuracy: 0.7931\n",
      "Epoch 7/50\n",
      "32/32 [==============================] - 4s 129ms/step - loss: 0.0585 - accuracy: 0.6655 - val_loss: 0.0597 - val_accuracy: 0.6373\n",
      "Epoch 8/50\n",
      "32/32 [==============================] - 4s 140ms/step - loss: 0.0550 - accuracy: 0.6729 - val_loss: 0.0547 - val_accuracy: 0.7406\n",
      "Epoch 9/50\n",
      "32/32 [==============================] - 4s 135ms/step - loss: 0.0529 - accuracy: 0.6674 - val_loss: 0.0543 - val_accuracy: 0.8191\n",
      "Epoch 10/50\n",
      "32/32 [==============================] - 4s 139ms/step - loss: 0.0545 - accuracy: 0.6680 - val_loss: 0.0578 - val_accuracy: 0.6691\n",
      "Epoch 11/50\n",
      "32/32 [==============================] - 4s 136ms/step - loss: 0.0506 - accuracy: 0.6837 - val_loss: 0.0497 - val_accuracy: 0.6572\n",
      "Epoch 12/50\n",
      "32/32 [==============================] - 4s 131ms/step - loss: 0.0497 - accuracy: 0.6934 - val_loss: 0.0467 - val_accuracy: 0.7464\n",
      "Epoch 13/50\n",
      "32/32 [==============================] - 4s 131ms/step - loss: 0.0478 - accuracy: 0.6791 - val_loss: 0.0474 - val_accuracy: 0.7705\n",
      "Epoch 14/50\n",
      "32/32 [==============================] - 4s 138ms/step - loss: 0.0482 - accuracy: 0.7110 - val_loss: 0.0454 - val_accuracy: 0.6507\n",
      "Epoch 15/50\n",
      "32/32 [==============================] - 4s 136ms/step - loss: 0.0478 - accuracy: 0.6858 - val_loss: 0.0542 - val_accuracy: 0.7970\n",
      "Epoch 16/50\n",
      "32/32 [==============================] - 4s 136ms/step - loss: 0.0477 - accuracy: 0.7197 - val_loss: 0.0461 - val_accuracy: 0.6636\n",
      "Epoch 17/50\n",
      "32/32 [==============================] - 4s 133ms/step - loss: 0.0471 - accuracy: 0.7132 - val_loss: 0.0448 - val_accuracy: 0.6904\n",
      "Epoch 18/50\n",
      "32/32 [==============================] - 4s 138ms/step - loss: 0.0455 - accuracy: 0.7234 - val_loss: 0.0520 - val_accuracy: 0.6969\n",
      "Epoch 19/50\n",
      "32/32 [==============================] - 4s 138ms/step - loss: 0.0466 - accuracy: 0.7370 - val_loss: 0.0513 - val_accuracy: 0.6358\n",
      "Epoch 20/50\n",
      "32/32 [==============================] - 4s 136ms/step - loss: 0.0472 - accuracy: 0.7190 - val_loss: 0.0450 - val_accuracy: 0.8082\n",
      "Epoch 21/50\n",
      "32/32 [==============================] - 4s 130ms/step - loss: 0.0451 - accuracy: 0.7345 - val_loss: 0.0469 - val_accuracy: 0.7745\n",
      "Epoch 22/50\n",
      "32/32 [==============================] - 4s 135ms/step - loss: 0.0466 - accuracy: 0.7348 - val_loss: 0.0601 - val_accuracy: 0.7999\n",
      "Epoch 23/50\n",
      "32/32 [==============================] - 4s 141ms/step - loss: 0.0476 - accuracy: 0.7160 - val_loss: 0.0504 - val_accuracy: 0.6374\n",
      "Epoch 24/50\n",
      "32/32 [==============================] - 4s 137ms/step - loss: 0.0458 - accuracy: 0.7079 - val_loss: 0.0469 - val_accuracy: 0.7095\n",
      "Epoch 25/50\n",
      "32/32 [==============================] - 4s 138ms/step - loss: 0.0445 - accuracy: 0.7306 - val_loss: 0.0438 - val_accuracy: 0.7986\n",
      "Epoch 26/50\n",
      "32/32 [==============================] - 4s 138ms/step - loss: 0.0440 - accuracy: 0.7505 - val_loss: 0.0421 - val_accuracy: 0.7430\n",
      "Epoch 27/50\n",
      "32/32 [==============================] - 4s 137ms/step - loss: 0.0440 - accuracy: 0.7283 - val_loss: 0.0487 - val_accuracy: 0.8054\n",
      "Epoch 28/50\n",
      "32/32 [==============================] - 4s 118ms/step - loss: 0.0442 - accuracy: 0.7496 - val_loss: 0.0459 - val_accuracy: 0.8073\n",
      "Epoch 29/50\n",
      "32/32 [==============================] - 4s 109ms/step - loss: 0.0443 - accuracy: 0.7433 - val_loss: 0.0469 - val_accuracy: 0.7412\n",
      "Epoch 30/50\n",
      "32/32 [==============================] - 4s 115ms/step - loss: 0.0440 - accuracy: 0.7484 - val_loss: 0.0468 - val_accuracy: 0.7594\n",
      "Epoch 31/50\n",
      "32/32 [==============================] - 4s 132ms/step - loss: 0.0439 - accuracy: 0.7080 - val_loss: 0.0423 - val_accuracy: 0.7838\n",
      "Epoch 32/50\n",
      "32/32 [==============================] - 4s 118ms/step - loss: 0.0433 - accuracy: 0.7535 - val_loss: 0.0442 - val_accuracy: 0.6352\n",
      "Epoch 33/50\n",
      "32/32 [==============================] - 4s 112ms/step - loss: 0.0442 - accuracy: 0.7322 - val_loss: 0.0525 - val_accuracy: 0.8237\n",
      "Epoch 34/50\n",
      "32/32 [==============================] - 4s 125ms/step - loss: 0.0445 - accuracy: 0.7381 - val_loss: 0.0471 - val_accuracy: 0.6702\n",
      "Epoch 35/50\n",
      "32/32 [==============================] - 4s 131ms/step - loss: 0.0440 - accuracy: 0.7414 - val_loss: 0.0474 - val_accuracy: 0.8144\n",
      "Epoch 36/50\n",
      "32/32 [==============================] - 4s 130ms/step - loss: 0.0444 - accuracy: 0.7367 - val_loss: 0.0464 - val_accuracy: 0.8360\n",
      "Epoch 37/50\n",
      "32/32 [==============================] - 4s 129ms/step - loss: 0.0432 - accuracy: 0.7405 - val_loss: 0.0505 - val_accuracy: 0.8314\n",
      "Epoch 38/50\n",
      "32/32 [==============================] - 4s 129ms/step - loss: 0.0435 - accuracy: 0.7446 - val_loss: 0.0472 - val_accuracy: 0.8282\n",
      "Epoch 39/50\n",
      "32/32 [==============================] - 4s 121ms/step - loss: 0.0428 - accuracy: 0.7345 - val_loss: 0.0439 - val_accuracy: 0.7703\n",
      "Epoch 40/50\n",
      "32/32 [==============================] - 4s 137ms/step - loss: 0.0429 - accuracy: 0.7403 - val_loss: 0.0467 - val_accuracy: 0.7476\n",
      "Epoch 41/50\n",
      "32/32 [==============================] - 4s 129ms/step - loss: 0.0438 - accuracy: 0.7545 - val_loss: 0.0521 - val_accuracy: 0.8114\n",
      "Epoch 42/50\n",
      "32/32 [==============================] - 4s 133ms/step - loss: 0.0431 - accuracy: 0.7395 - val_loss: 0.0469 - val_accuracy: 0.7646\n",
      "Epoch 43/50\n",
      "32/32 [==============================] - 4s 125ms/step - loss: 0.0419 - accuracy: 0.7430 - val_loss: 0.0419 - val_accuracy: 0.7246\n",
      "Epoch 44/50\n",
      "32/32 [==============================] - 4s 117ms/step - loss: 0.0419 - accuracy: 0.7508 - val_loss: 0.0446 - val_accuracy: 0.8018\n",
      "Epoch 45/50\n",
      "32/32 [==============================] - 4s 132ms/step - loss: 0.0423 - accuracy: 0.7279 - val_loss: 0.0428 - val_accuracy: 0.8237\n",
      "Epoch 46/50\n",
      "32/32 [==============================] - 4s 133ms/step - loss: 0.0421 - accuracy: 0.7579 - val_loss: 0.0483 - val_accuracy: 0.7337\n",
      "Epoch 47/50\n",
      "32/32 [==============================] - 4s 137ms/step - loss: 0.0422 - accuracy: 0.7574 - val_loss: 0.0448 - val_accuracy: 0.8280\n",
      "Epoch 48/50\n",
      "32/32 [==============================] - 4s 135ms/step - loss: 0.0422 - accuracy: 0.7632 - val_loss: 0.0518 - val_accuracy: 0.6822\n",
      "Epoch 49/50\n",
      "32/32 [==============================] - 4s 132ms/step - loss: 0.0429 - accuracy: 0.7431 - val_loss: 0.0397 - val_accuracy: 0.7951\n",
      "Epoch 50/50\n",
      "32/32 [==============================] - 4s 129ms/step - loss: 0.0427 - accuracy: 0.7528 - val_loss: 0.0419 - val_accuracy: 0.7235\n"
     ]
    }
   ],
   "source": [
    "from tensorflow import keras\n",
    "from keras.layers import GRU, Dense\n",
    "from keras.models import Sequential\n",
    "from keras import optimizers\n",
    "from keras.callbacks import EarlyStopping\n",
    "import keras.backend as K\n",
    "\n",
    "K.clear_session()\n",
    "model = Sequential()\n",
    "model.add(GRU(20, activation='relu', input_shape=(shift_hours, 3), return_sequences=True, dropout=0.2))\n",
    "model.add(Dense(3))\n",
    "adam = keras.optimizers.Adam(learning_rate =  1e-2)\n",
    "model.compile(loss='mean_squared_error', optimizer=adam, metrics=['accuracy'])\n",
    "\n",
    "model.summary()\n",
    "early_stop = EarlyStopping(monitor='loss', patience=100, verbose=1)\n",
    "\n",
    "hist = model.fit(train_X, train_Y, validation_data=(valid_X, valid_Y), epochs=50, batch_size=16, verbose=1, callbacks=[early_stop])\n",
    "y_pred = model.predict(valid_X)"
   ]
  },
  {
   "cell_type": "code",
   "execution_count": 156,
   "id": "19dc9e8c-40ab-4825-9b22-1b4f588b29ef",
   "metadata": {},
   "outputs": [
    {
     "data": {
      "text/plain": [
       "[<matplotlib.lines.Line2D at 0x7efc58100160>]"
      ]
     },
     "execution_count": 156,
     "metadata": {},
     "output_type": "execute_result"
    },
    {
     "data": {
      "image/png": "[encoded data removed]",
      "text/plain": [
       "<Figure size 432x288 with 1 Axes>"
      ]
     },
     "metadata": {
      "needs_background": "light"
     },
     "output_type": "display_data"
    },
    {
     "data": {
      "image/png": "[encoded data removed]",
      "text/plain": [
       "<Figure size 432x288 with 1 Axes>"
      ]
     },
     "metadata": {
      "needs_background": "light"
     },
     "output_type": "display_data"
    }
   ],
   "source": [
    "plt.figure(1)\n",
    "plt.plot(hist.history['loss'], 'y', label='train loss')\n",
    "plt.plot(hist.history['val_loss'], 'r', label='val loss')\n",
    "\n",
    "plt.figure(2)\n",
    "plt.plot(hist.history['accuracy'], 'b', label='train acc')\n",
    "plt.plot(hist.history['val_accuracy'], 'g', label='val acc')"
   ]
  },
  {
   "cell_type": "code",
   "execution_count": 338,
   "id": "c3b59dfc-66ae-43e9-adcb-629f9c40a08a",
   "metadata": {},
   "outputs": [
    {
     "data": {
      "text/plain": [
       "(72, 168, 3)"
      ]
     },
     "execution_count": 338,
     "metadata": {},
     "output_type": "execute_result"
    }
   ],
   "source": [
    "y_pred.shape"
   ]
  },
  {
   "cell_type": "code",
   "execution_count": 339,
   "id": "ff8b5a9d-1911-4799-8436-a473b2851dca",
   "metadata": {},
   "outputs": [
    {
     "data": {
      "text/plain": [
       "[<matplotlib.lines.Line2D at 0x7efc244b8160>,\n",
       " <matplotlib.lines.Line2D at 0x7efc244b8190>,\n",
       " <matplotlib.lines.Line2D at 0x7efc244b82b0>]"
      ]
     },
     "execution_count": 339,
     "metadata": {},
     "output_type": "execute_result"
    },
    {
     "data": {
      "image/png": "[encoded data removed]",
      "text/plain": [
       "<Figure size 432x288 with 1 Axes>"
      ]
     },
     "metadata": {
      "needs_background": "light"
     },
     "output_type": "display_data"
    },
    {
     "data": {
      "image/png": "[encoded data removed]",
      "text/plain": [
       "<Figure size 432x288 with 1 Axes>"
      ]
     },
     "metadata": {
      "needs_background": "light"
     },
     "output_type": "display_data"
    }
   ],
   "source": [
    "plt.figure(1)\n",
    "plt.plot(y_pred[2])\n",
    "plt.plot(valid_Y[2])\n",
    "\n",
    "plt.figure(2)\n",
    "plt.plot(y_pred[1])\n",
    "plt.plot(valid_Y[1])"
   ]
  },
  {
   "cell_type": "code",
   "execution_count": 212,
   "id": "3224a4da-f356-4041-b147-d177098fead8",
   "metadata": {},
   "outputs": [
    {
     "data": {
      "text/html": [
       "<div>\n",
       "<style scoped>\n",
       "    .dataframe tbody tr th:only-of-type {\n",
       "        vertical-align: middle;\n",
       "    }\n",
       "\n",
       "    .dataframe tbody tr th {\n",
       "        vertical-align: top;\n",
       "    }\n",
       "\n",
       "    .dataframe thead th {\n",
       "        text-align: right;\n",
       "    }\n",
       "</style>\n",
       "<table border=\"1\" class=\"dataframe\">\n",
       "  <thead>\n",
       "    <tr style=\"text-align: right;\">\n",
       "      <th></th>\n",
       "      <th>Hour</th>\n",
       "      <th>Solar Radiance(w/m^2)</th>\n",
       "      <th>Temperature(C)</th>\n",
       "      <th>Solar Power(kW)</th>\n",
       "      <th>Month</th>\n",
       "      <th>Day</th>\n",
       "      <th>Year</th>\n",
       "    </tr>\n",
       "  </thead>\n",
       "  <tbody>\n",
       "    <tr>\n",
       "      <th>10</th>\n",
       "      <td>10</td>\n",
       "      <td>305.6346</td>\n",
       "      <td>7.0477</td>\n",
       "      <td>83.267205</td>\n",
       "      <td>1</td>\n",
       "      <td>1</td>\n",
       "      <td>2020</td>\n",
       "    </tr>\n",
       "    <tr>\n",
       "      <th>11</th>\n",
       "      <td>11</td>\n",
       "      <td>327.0414</td>\n",
       "      <td>7.5561</td>\n",
       "      <td>88.891447</td>\n",
       "      <td>1</td>\n",
       "      <td>1</td>\n",
       "      <td>2020</td>\n",
       "    </tr>\n",
       "    <tr>\n",
       "      <th>12</th>\n",
       "      <td>12</td>\n",
       "      <td>346.0632</td>\n",
       "      <td>8.2395</td>\n",
       "      <td>93.766040</td>\n",
       "      <td>1</td>\n",
       "      <td>1</td>\n",
       "      <td>2020</td>\n",
       "    </tr>\n",
       "    <tr>\n",
       "      <th>13</th>\n",
       "      <td>13</td>\n",
       "      <td>425.8717</td>\n",
       "      <td>9.2413</td>\n",
       "      <td>114.856905</td>\n",
       "      <td>1</td>\n",
       "      <td>1</td>\n",
       "      <td>2020</td>\n",
       "    </tr>\n",
       "    <tr>\n",
       "      <th>14</th>\n",
       "      <td>14</td>\n",
       "      <td>443.4677</td>\n",
       "      <td>10.0527</td>\n",
       "      <td>119.152731</td>\n",
       "      <td>1</td>\n",
       "      <td>1</td>\n",
       "      <td>2020</td>\n",
       "    </tr>\n",
       "    <tr>\n",
       "      <th>...</th>\n",
       "      <td>...</td>\n",
       "      <td>...</td>\n",
       "      <td>...</td>\n",
       "      <td>...</td>\n",
       "      <td>...</td>\n",
       "      <td>...</td>\n",
       "      <td>...</td>\n",
       "    </tr>\n",
       "    <tr>\n",
       "      <th>8755</th>\n",
       "      <td>19</td>\n",
       "      <td>0.0000</td>\n",
       "      <td>9.0635</td>\n",
       "      <td>0.000000</td>\n",
       "      <td>12</td>\n",
       "      <td>31</td>\n",
       "      <td>2020</td>\n",
       "    </tr>\n",
       "    <tr>\n",
       "      <th>8756</th>\n",
       "      <td>20</td>\n",
       "      <td>0.0000</td>\n",
       "      <td>8.5637</td>\n",
       "      <td>0.000000</td>\n",
       "      <td>12</td>\n",
       "      <td>31</td>\n",
       "      <td>2020</td>\n",
       "    </tr>\n",
       "    <tr>\n",
       "      <th>8757</th>\n",
       "      <td>21</td>\n",
       "      <td>0.0000</td>\n",
       "      <td>7.9824</td>\n",
       "      <td>0.000000</td>\n",
       "      <td>12</td>\n",
       "      <td>31</td>\n",
       "      <td>2020</td>\n",
       "    </tr>\n",
       "    <tr>\n",
       "      <th>8758</th>\n",
       "      <td>22</td>\n",
       "      <td>0.0000</td>\n",
       "      <td>7.7303</td>\n",
       "      <td>0.000000</td>\n",
       "      <td>12</td>\n",
       "      <td>31</td>\n",
       "      <td>2020</td>\n",
       "    </tr>\n",
       "    <tr>\n",
       "      <th>8759</th>\n",
       "      <td>23</td>\n",
       "      <td>0.0000</td>\n",
       "      <td>9.0433</td>\n",
       "      <td>0.000000</td>\n",
       "      <td>12</td>\n",
       "      <td>31</td>\n",
       "      <td>2020</td>\n",
       "    </tr>\n",
       "  </tbody>\n",
       "</table>\n",
       "<p>8750 rows × 7 columns</p>\n",
       "</div>"
      ],
      "text/plain": [
       "      Hour  Solar Radiance(w/m^2)  Temperature(C)  Solar Power(kW) Month Day  \\\n",
       "10      10               305.6346          7.0477        83.267205     1   1   \n",
       "11      11               327.0414          7.5561        88.891447     1   1   \n",
       "12      12               346.0632          8.2395        93.766040     1   1   \n",
       "13      13               425.8717          9.2413       114.856905     1   1   \n",
       "14      14               443.4677         10.0527       119.152731     1   1   \n",
       "...    ...                    ...             ...              ...   ...  ..   \n",
       "8755    19                 0.0000          9.0635         0.000000    12  31   \n",
       "8756    20                 0.0000          8.5637         0.000000    12  31   \n",
       "8757    21                 0.0000          7.9824         0.000000    12  31   \n",
       "8758    22                 0.0000          7.7303         0.000000    12  31   \n",
       "8759    23                 0.0000          9.0433         0.000000    12  31   \n",
       "\n",
       "      Year  \n",
       "10    2020  \n",
       "11    2020  \n",
       "12    2020  \n",
       "13    2020  \n",
       "14    2020  \n",
       "...    ...  \n",
       "8755  2020  \n",
       "8756  2020  \n",
       "8757  2020  \n",
       "8758  2020  \n",
       "8759  2020  \n",
       "\n",
       "[8750 rows x 7 columns]"
      ]
     },
     "execution_count": 212,
     "metadata": {},
     "output_type": "execute_result"
    }
   ],
   "source": [
    "test_df[10:]"
   ]
  },
  {
   "cell_type": "code",
   "execution_count": 309,
   "id": "b1fb288a-045b-4cad-a4a3-3bb6adf658ad",
   "metadata": {},
   "outputs": [],
   "source": [
    "sc = RobustScaler()\n",
    "testset = sc.fit_transform(test_df[['Solar Radiance(w/m^2)','Temperature(C)','Solar Power(kW)']])"
   ]
  },
  {
   "cell_type": "code",
   "execution_count": 310,
   "id": "5a985882-f1ba-4f0a-9767-ca720c492e65",
   "metadata": {},
   "outputs": [],
   "source": [
    "testset = testset[:8736]"
   ]
  },
  {
   "cell_type": "code",
   "execution_count": 311,
   "id": "a7d2df93-f255-4c6a-94fb-790390373be7",
   "metadata": {},
   "outputs": [
    {
     "data": {
      "text/plain": [
       "(8736, 3)"
      ]
     },
     "execution_count": 311,
     "metadata": {},
     "output_type": "execute_result"
    }
   ],
   "source": [
    "testset.shape"
   ]
  },
  {
   "cell_type": "code",
   "execution_count": 312,
   "id": "3602a77c-92cd-4f51-9a62-252f84b03770",
   "metadata": {},
   "outputs": [],
   "source": [
    "test_x, test_y = testset[:-shift_hours], testset[shift_hours:]\n",
    "test_x = testset.reshape(int(testset.shape[0]/shift_hours),shift_hours,3)\n",
    "test_y = testset.reshape(int(testset.shape[0]/shift_hours),shift_hours,3)"
   ]
  },
  {
   "cell_type": "code",
   "execution_count": 313,
   "id": "35fb3380-0077-4051-a198-186ae9b1eea3",
   "metadata": {},
   "outputs": [],
   "source": [
    "y_pred_test = model.predict(test_x)"
   ]
  },
  {
   "cell_type": "code",
   "execution_count": 331,
   "id": "ef82bfd4-541c-4e2e-87b0-23ca55cb4fe0",
   "metadata": {},
   "outputs": [
    {
     "data": {
      "text/plain": [
       "[<matplotlib.lines.Line2D at 0x7efc346c8d90>]"
      ]
     },
     "execution_count": 331,
     "metadata": {},
     "output_type": "execute_result"
    },
    {
     "data": {
      "image/png": "[encoded data removed]",
      "text/plain": [
       "<Figure size 432x288 with 1 Axes>"
      ]
     },
     "metadata": {
      "needs_background": "light"
     },
     "output_type": "display_data"
    },
    {
     "data": {
      "image/png": "[encoded data removed]",
      "text/plain": [
       "<Figure size 432x288 with 1 Axes>"
      ]
     },
     "metadata": {
      "needs_background": "light"
     },
     "output_type": "display_data"
    }
   ],
   "source": [
    "plt.figure(1)\n",
    "plt.plot(y_pred_test[0])\n",
    "plt.plot(test_y[0])\n",
    "\n",
    "plt.figure(2)\n",
    "plt.plot(y_pred_test[1])\n",
    "plt.plot(test_y[1])"
   ]
  },
  {
   "cell_type": "code",
   "execution_count": 315,
   "id": "eac8bca8-e988-4656-89c1-23b4b5063911",
   "metadata": {},
   "outputs": [],
   "source": [
    "y_pred_test = y_pred_test.reshape(-1,3)\n",
    "test_y = test_y.reshape(-1,3)                             "
   ]
  },
  {
   "cell_type": "code",
   "execution_count": 316,
   "id": "06dacb84-5381-4d69-81e9-3d5ee491ab2c",
   "metadata": {},
   "outputs": [],
   "source": [
    "y_pred_test = sc.inverse_transform(y_pred_test)\n",
    "test_y = sc.inverse_transform(test_y)"
   ]
  },
  {
   "cell_type": "code",
   "execution_count": 294,
   "id": "cb7d54a5-dbbf-43f4-bb7c-176692f3fd67",
   "metadata": {},
   "outputs": [
    {
     "data": {
      "text/plain": [
       "array([[12.277424 , 14.309789 ,  3.7947056],\n",
       "       [20.770187 , 12.188404 ,  5.3500876],\n",
       "       [20.481266 , 10.785615 ,  4.95784  ],\n",
       "       ...,\n",
       "       [10.29317  , 13.060114 ,  3.1472182],\n",
       "       [14.207079 , 12.147353 ,  3.986803 ],\n",
       "       [15.58873  , 11.409597 ,  4.142958 ]], dtype=float32)"
      ]
     },
     "execution_count": 294,
     "metadata": {},
     "output_type": "execute_result"
    }
   ],
   "source": [
    "y_pred_test"
   ]
  },
  {
   "cell_type": "code",
   "execution_count": 295,
   "id": "abbc64c7-77e9-4485-988f-edbdada7f437",
   "metadata": {},
   "outputs": [
    {
     "data": {
      "text/plain": [
       "array([[0.    , 5.5313, 0.    ],\n",
       "       [0.    , 5.8106, 0.    ],\n",
       "       [0.    , 5.3325, 0.    ],\n",
       "       ...,\n",
       "       [0.    , 8.8085, 0.    ],\n",
       "       [0.    , 7.2568, 0.    ],\n",
       "       [0.    , 6.8444, 0.    ]])"
      ]
     },
     "execution_count": 295,
     "metadata": {},
     "output_type": "execute_result"
    }
   ],
   "source": [
    "test_y"
   ]
  },
  {
   "cell_type": "code",
   "execution_count": 296,
   "id": "b641595e-c955-4586-8b65-194a8f83aca6",
   "metadata": {},
   "outputs": [
    {
     "data": {
      "text/plain": [
       "[<matplotlib.lines.Line2D at 0x7efd3e7d44f0>]"
      ]
     },
     "execution_count": 296,
     "metadata": {},
     "output_type": "execute_result"
    },
    {
     "data": {
      "image/png": "[encoded data removed]",
      "text/plain": [
       "<Figure size 432x288 with 1 Axes>"
      ]
     },
     "metadata": {
      "needs_background": "light"
     },
     "output_type": "display_data"
    }
   ],
   "source": [
    "plt.figure(1)\n",
    "plt.plot(y_pred_test[:][2])\n",
    "plt.plot(test_y[:][2])"
   ]
  },
  {
   "cell_type": "code",
   "execution_count": 317,
   "id": "3c22d984-4f79-4f3b-bf8e-c4b8ade9c86c",
   "metadata": {
    "collapsed": true,
    "jupyter": {
     "outputs_hidden": true
    },
    "tags": []
   },
   "outputs": [
    {
     "data": {
      "text/plain": [
       "array([[1.62242184e+01, 1.37593298e+01, 4.37064695e+00],\n",
       "       [1.55835762e+01, 1.32490416e+01, 3.95978928e+00],\n",
       "       [1.51347857e+01, 1.28424044e+01, 3.59235263e+00],\n",
       "       [1.58018532e+01, 1.25057392e+01, 3.55167341e+00],\n",
       "       [1.76511402e+01, 1.22192707e+01, 3.87690711e+00],\n",
       "       [2.07048073e+01, 1.19729433e+01, 4.60371923e+00],\n",
       "       [3.09296322e+01, 1.17810602e+01, 6.94379902e+00],\n",
       "       [5.54009094e+01, 1.16894026e+01, 1.31613846e+01],\n",
       "       [9.42403183e+01, 1.17114878e+01, 2.31516037e+01],\n",
       "       [1.53663651e+02, 1.19727106e+01, 3.82964783e+01],\n",
       "       [2.36276367e+02, 1.25748587e+01, 5.91976357e+01],\n",
       "       [3.34296051e+02, 1.35043659e+01, 8.39635162e+01],\n",
       "       [4.25704010e+02, 1.46341095e+01, 1.07188553e+02],\n",
       "       [4.80168793e+02, 1.59401283e+01, 1.20800644e+02],\n",
       "       [4.87282043e+02, 1.70848370e+01, 1.21757484e+02],\n",
       "       [4.45416687e+02, 1.79720974e+01, 1.09608604e+02],\n",
       "       [3.53661377e+02, 1.86015625e+01, 8.50535812e+01],\n",
       "       [2.20783905e+02, 1.88072910e+01, 5.17295647e+01],\n",
       "       [8.06290436e+01, 1.82752857e+01, 1.84090862e+01],\n",
       "       [2.08477211e+01, 1.72846832e+01, 3.14717841e+00],\n",
       "       [1.01394501e+01, 1.62737389e+01, 3.56707633e-01],\n",
       "       [1.03385487e+01, 1.54509897e+01, 5.93859196e-01],\n",
       "       [1.32509594e+01, 1.47291250e+01, 1.66800368e+00],\n",
       "       [1.78330956e+01, 1.40426550e+01, 3.23110151e+00],\n",
       "       [1.84200783e+01, 1.35765295e+01, 3.59802079e+00],\n",
       "       [1.83983746e+01, 1.32112427e+01, 3.70518947e+00],\n",
       "       [1.89947834e+01, 1.29011011e+01, 3.90634918e+00],\n",
       "       [2.06027203e+01, 1.26220350e+01, 4.34343481e+00],\n",
       "       [2.30225029e+01, 1.23633451e+01, 4.99182367e+00],\n",
       "       [2.63001862e+01, 1.21231260e+01, 5.90832424e+00],\n",
       "       [3.75017738e+01, 1.19250736e+01, 8.52988625e+00],\n",
       "       [6.48053513e+01, 1.18330622e+01, 1.54827986e+01],\n",
       "       [1.07496063e+02, 1.18567715e+01, 2.64778271e+01],\n",
       "       [1.72301483e+02, 1.21379023e+01, 4.30087166e+01],\n",
       "       [2.61012238e+02, 1.27846689e+01, 6.54747086e+01],\n",
       "       [3.62462891e+02, 1.37635908e+01, 9.11583328e+01],\n",
       "       [4.50151947e+02, 1.49164886e+01, 1.13496170e+02],\n",
       "       [4.95144684e+02, 1.61922913e+01, 1.24572609e+02],\n",
       "       [4.90622223e+02, 1.72567463e+01, 1.22338364e+02],\n",
       "       [4.35288391e+02, 1.80734425e+01, 1.06604645e+02],\n",
       "       [3.29112854e+02, 1.86377392e+01, 7.85832062e+01],\n",
       "       [1.86209183e+02, 1.86900845e+01, 4.32715454e+01],\n",
       "       [5.99473610e+01, 1.80244122e+01, 1.30988102e+01],\n",
       "       [1.43682938e+01, 1.69647312e+01, 1.32063937e+00],\n",
       "       [1.03769960e+01, 1.59908514e+01, 4.59612250e-01],\n",
       "       [1.19780836e+01, 1.52116995e+01, 1.13286090e+00],\n",
       "       [1.55210924e+01, 1.45108881e+01, 2.39581800e+00],\n",
       "       [1.91318130e+01, 1.38858833e+01, 3.66595840e+00],\n",
       "       [1.95718422e+01, 1.34446869e+01, 3.96479440e+00],\n",
       "       [1.96097775e+01, 1.30867891e+01, 4.06964064e+00],\n",
       "       [2.02287083e+01, 1.27752409e+01, 4.27047205e+00],\n",
       "       [2.17460594e+01, 1.24899435e+01, 4.68676567e+00],\n",
       "       [2.39677486e+01, 1.22218924e+01, 5.29192781e+00],\n",
       "       [2.69945202e+01, 1.19700108e+01, 6.15491247e+00],\n",
       "       [3.86347847e+01, 1.17611914e+01, 8.86860085e+00],\n",
       "       [6.61380920e+01, 1.16622248e+01, 1.58797894e+01]], dtype=float32)"
      ]
     },
     "execution_count": 317,
     "metadata": {},
     "output_type": "execute_result"
    }
   ],
   "source": [
    "y_pred_test[744:800]"
   ]
  },
  {
   "cell_type": "code",
   "execution_count": 33,
   "id": "3d95575f-2673-4eb9-a44c-cd4608a45bf4",
   "metadata": {},
   "outputs": [],
   "source": [
    "# model.eval()\n",
    "\n",
    "# trainX = train_X.cuda()\n",
    "# trainY = train_Y.cuda()\n",
    "# prediction = model(trainX)\n",
    "# mean_squared_error = criterion(prediction, trainY)\n",
    "# print('train mean squared error: ', mean_squared_error.mean())\n",
    "\n",
    "# valid_X = valid_X.cuda()\n",
    "# valid_Y = valid_Y.cuda()\n",
    "# prediction = model(valid_X)\n",
    "# test_mean_squared_error = criterion(prediction, valid_Y)\n",
    "# print('test mean squared error: ', test_mean_squared_error.mean())"
   ]
  },
  {
   "cell_type": "code",
   "execution_count": 34,
   "id": "86c78092-24cb-45d0-9644-272f57d284ad",
   "metadata": {},
   "outputs": [],
   "source": [
    "model.eval()\n",
    "\n",
    "x = torch.cat((train_X, valid_X), 0).cuda()\n",
    "y = torch.cat((train_Y, valid_Y), 0).cuda()\n",
    "predictions = model(x)\n",
    "predictions = predictions.data.cpu().numpy()"
   ]
  },
  {
   "cell_type": "code",
   "execution_count": 43,
   "id": "5b0b32b3-1a15-49a0-8422-9d729c9f3ea2",
   "metadata": {},
   "outputs": [
    {
     "data": {
      "image/png": "[encoded data removed]",
      "text/plain": [
       "<Figure size 432x288 with 1 Axes>"
      ]
     },
     "metadata": {
      "needs_background": "light"
     },
     "output_type": "display_data"
    }
   ],
   "source": [
    "# predictions = sc.inverse_transform(predictions)\n",
    "# labels = sc.inverse_transform(y.cpu().numpy())\n",
    "labels = y.cpu().numpy()\n",
    "plt.axvline(x=training_set_size, c='r', linestyle='--')\n",
    "plt.plot(predictions, label='Model prediction')\n",
    "# plt.plot(labels, label='Groundtruth')\n",
    "plt.legend()\n",
    "plt.title('Time-Series Forecasting for No. Airplane Passengers')\n",
    "plt.show()"
   ]
  },
  {
   "cell_type": "code",
   "execution_count": 36,
   "id": "3cceb45b-9d8c-447d-9626-acf667f52b86",
   "metadata": {},
   "outputs": [],
   "source": [
    "# predictions[0] -> train[9]\n",
    "# 96361"
   ]
  },
  {
   "cell_type": "code",
   "execution_count": 46,
   "id": "0b5d147c-d3a7-4fe2-bd7c-03965a01afbc",
   "metadata": {},
   "outputs": [
    {
     "data": {
      "text/plain": [
       "array([236.25958 ,  22.13742 ,  58.587597], dtype=float32)"
      ]
     },
     "execution_count": 46,
     "metadata": {},
     "output_type": "execute_result"
    }
   ],
   "source": [
    "predictions[0]"
   ]
  },
  {
   "cell_type": "code",
   "execution_count": 38,
   "id": "c83eeb80-88dc-4980-9450-6d8cdd2baf49",
   "metadata": {},
   "outputs": [
    {
     "data": {
      "text/plain": [
       "tensor([270.5294,   2.9413,  75.0918], device='cuda:0')"
      ]
     },
     "execution_count": 38,
     "metadata": {},
     "output_type": "execute_result"
    }
   ],
   "source": [
    "y[1]"
   ]
  },
  {
   "cell_type": "code",
   "execution_count": 39,
   "id": "1dfae1ee-3d95-4d9e-a9e8-8f2ae0f723ee",
   "metadata": {},
   "outputs": [
    {
     "data": {
      "text/plain": [
       "105111"
      ]
     },
     "execution_count": 39,
     "metadata": {},
     "output_type": "execute_result"
    }
   ],
   "source": [
    "len(predictions)"
   ]
  },
  {
   "cell_type": "code",
   "execution_count": 40,
   "id": "3b6d941c-bb82-47b5-99a7-5b20fd289152",
   "metadata": {},
   "outputs": [
    {
     "data": {
      "text/plain": [
       "array([[236.25958 ,  22.13742 ,  58.587597],\n",
       "       [236.25958 ,  22.13742 ,  58.587597],\n",
       "       [236.25958 ,  22.13742 ,  58.587597],\n",
       "       ...,\n",
       "       [236.25958 ,  22.13742 ,  58.587597],\n",
       "       [236.25958 ,  22.13742 ,  58.587597],\n",
       "       [236.25958 ,  22.13742 ,  58.587597]], dtype=float32)"
      ]
     },
     "execution_count": 40,
     "metadata": {},
     "output_type": "execute_result"
    }
   ],
   "source": [
    "predictions[96361-9:]"
   ]
  },
  {
   "cell_type": "code",
   "execution_count": 44,
   "id": "dda5ad22-a25d-4232-a301-8044cf3a2999",
   "metadata": {},
   "outputs": [
    {
     "data": {
      "text/plain": [
       "array([[0.    , 5.5313, 0.    ],\n",
       "       [0.    , 5.8106, 0.    ],\n",
       "       [0.    , 5.3325, 0.    ],\n",
       "       ...,\n",
       "       [0.    , 8.5637, 0.    ],\n",
       "       [0.    , 7.9824, 0.    ],\n",
       "       [0.    , 7.7303, 0.    ]], dtype=float32)"
      ]
     },
     "execution_count": 44,
     "metadata": {},
     "output_type": "execute_result"
    }
   ],
   "source": [
    "labels[96361-9:]"
   ]
  },
  {
   "cell_type": "code",
   "execution_count": 45,
   "id": "1ecee19d-26a3-4cad-8578-384089e13b19",
   "metadata": {},
   "outputs": [
    {
     "data": {
      "text/html": [
       "<div>\n",
       "<style scoped>\n",
       "    .dataframe tbody tr th:only-of-type {\n",
       "        vertical-align: middle;\n",
       "    }\n",
       "\n",
       "    .dataframe tbody tr th {\n",
       "        vertical-align: top;\n",
       "    }\n",
       "\n",
       "    .dataframe thead th {\n",
       "        text-align: right;\n",
       "    }\n",
       "</style>\n",
       "<table border=\"1\" class=\"dataframe\">\n",
       "  <thead>\n",
       "    <tr style=\"text-align: right;\">\n",
       "      <th></th>\n",
       "      <th>Hour</th>\n",
       "      <th>Solar Radiance(w/m^2)</th>\n",
       "      <th>Temperature(C)</th>\n",
       "      <th>Solar Power(kW)</th>\n",
       "      <th>Month</th>\n",
       "      <th>Day</th>\n",
       "      <th>Year</th>\n",
       "    </tr>\n",
       "  </thead>\n",
       "  <tbody>\n",
       "    <tr>\n",
       "      <th>744</th>\n",
       "      <td>0</td>\n",
       "      <td>NaN</td>\n",
       "      <td>NaN</td>\n",
       "      <td>NaN</td>\n",
       "      <td>2</td>\n",
       "      <td>1</td>\n",
       "      <td>2020</td>\n",
       "    </tr>\n",
       "    <tr>\n",
       "      <th>745</th>\n",
       "      <td>1</td>\n",
       "      <td>NaN</td>\n",
       "      <td>NaN</td>\n",
       "      <td>NaN</td>\n",
       "      <td>2</td>\n",
       "      <td>1</td>\n",
       "      <td>2020</td>\n",
       "    </tr>\n",
       "    <tr>\n",
       "      <th>746</th>\n",
       "      <td>2</td>\n",
       "      <td>NaN</td>\n",
       "      <td>NaN</td>\n",
       "      <td>NaN</td>\n",
       "      <td>2</td>\n",
       "      <td>1</td>\n",
       "      <td>2020</td>\n",
       "    </tr>\n",
       "    <tr>\n",
       "      <th>747</th>\n",
       "      <td>3</td>\n",
       "      <td>NaN</td>\n",
       "      <td>NaN</td>\n",
       "      <td>NaN</td>\n",
       "      <td>2</td>\n",
       "      <td>1</td>\n",
       "      <td>2020</td>\n",
       "    </tr>\n",
       "    <tr>\n",
       "      <th>748</th>\n",
       "      <td>4</td>\n",
       "      <td>NaN</td>\n",
       "      <td>NaN</td>\n",
       "      <td>NaN</td>\n",
       "      <td>2</td>\n",
       "      <td>1</td>\n",
       "      <td>2020</td>\n",
       "    </tr>\n",
       "    <tr>\n",
       "      <th>...</th>\n",
       "      <td>...</td>\n",
       "      <td>...</td>\n",
       "      <td>...</td>\n",
       "      <td>...</td>\n",
       "      <td>...</td>\n",
       "      <td>...</td>\n",
       "      <td>...</td>\n",
       "    </tr>\n",
       "    <tr>\n",
       "      <th>8179</th>\n",
       "      <td>19</td>\n",
       "      <td>NaN</td>\n",
       "      <td>NaN</td>\n",
       "      <td>NaN</td>\n",
       "      <td>12</td>\n",
       "      <td>7</td>\n",
       "      <td>2020</td>\n",
       "    </tr>\n",
       "    <tr>\n",
       "      <th>8180</th>\n",
       "      <td>20</td>\n",
       "      <td>NaN</td>\n",
       "      <td>NaN</td>\n",
       "      <td>NaN</td>\n",
       "      <td>12</td>\n",
       "      <td>7</td>\n",
       "      <td>2020</td>\n",
       "    </tr>\n",
       "    <tr>\n",
       "      <th>8181</th>\n",
       "      <td>21</td>\n",
       "      <td>NaN</td>\n",
       "      <td>NaN</td>\n",
       "      <td>NaN</td>\n",
       "      <td>12</td>\n",
       "      <td>7</td>\n",
       "      <td>2020</td>\n",
       "    </tr>\n",
       "    <tr>\n",
       "      <th>8182</th>\n",
       "      <td>22</td>\n",
       "      <td>NaN</td>\n",
       "      <td>NaN</td>\n",
       "      <td>NaN</td>\n",
       "      <td>12</td>\n",
       "      <td>7</td>\n",
       "      <td>2020</td>\n",
       "    </tr>\n",
       "    <tr>\n",
       "      <th>8183</th>\n",
       "      <td>23</td>\n",
       "      <td>NaN</td>\n",
       "      <td>NaN</td>\n",
       "      <td>NaN</td>\n",
       "      <td>12</td>\n",
       "      <td>7</td>\n",
       "      <td>2020</td>\n",
       "    </tr>\n",
       "  </tbody>\n",
       "</table>\n",
       "<p>1848 rows × 7 columns</p>\n",
       "</div>"
      ],
      "text/plain": [
       "      Hour  Solar Radiance(w/m^2)  Temperature(C)  Solar Power(kW) Month Day  \\\n",
       "744      0                    NaN             NaN              NaN     2   1   \n",
       "745      1                    NaN             NaN              NaN     2   1   \n",
       "746      2                    NaN             NaN              NaN     2   1   \n",
       "747      3                    NaN             NaN              NaN     2   1   \n",
       "748      4                    NaN             NaN              NaN     2   1   \n",
       "...    ...                    ...             ...              ...   ...  ..   \n",
       "8179    19                    NaN             NaN              NaN    12   7   \n",
       "8180    20                    NaN             NaN              NaN    12   7   \n",
       "8181    21                    NaN             NaN              NaN    12   7   \n",
       "8182    22                    NaN             NaN              NaN    12   7   \n",
       "8183    23                    NaN             NaN              NaN    12   7   \n",
       "\n",
       "      Year  \n",
       "744   2020  \n",
       "745   2020  \n",
       "746   2020  \n",
       "747   2020  \n",
       "748   2020  \n",
       "...    ...  \n",
       "8179  2020  \n",
       "8180  2020  \n",
       "8181  2020  \n",
       "8182  2020  \n",
       "8183  2020  \n",
       "\n",
       "[1848 rows x 7 columns]"
      ]
     },
     "execution_count": 45,
     "metadata": {},
     "output_type": "execute_result"
    }
   ],
   "source": [
    "test_df[test_df['Temperature(C)'].isnull()]"
   ]
  },
  {
   "cell_type": "code",
   "execution_count": 318,
   "id": "efbdf301-2efa-40d2-b383-4fa953de4d07",
   "metadata": {},
   "outputs": [],
   "source": [
    "sample = pd.DataFrame(columns=['ID','Month','Day','Hour','Solar Radiance(w/m^2)','Temperature(C)','Solar Power(kW)'])"
   ]
  },
  {
   "cell_type": "code",
   "execution_count": 319,
   "id": "cc67394f-a391-4e9e-b71e-9564e50b532d",
   "metadata": {},
   "outputs": [
    {
     "data": {
      "application/vnd.jupyter.widget-view+json": {
       "model_id": "f2d08f48975e42ca9189f0fe6ba0e2df",
       "version_major": 2,
       "version_minor": 0
      },
      "text/plain": [
       "0it [00:00, ?it/s]"
      ]
     },
     "metadata": {},
     "output_type": "display_data"
    }
   ],
   "source": [
    "for i, (r,t,p) in tqdm(enumerate(y_pred_test)):\n",
    "    if test_df2.iloc[i].isnull()['Temperature(C)']:\n",
    "        test_df.loc[i,['Solar Radiance(w/m^2)','Temperature(C)','Solar Power(kW)']] = r,t,p\n",
    "        sample = sample.append(test_df.iloc[i], ignore_index=True)"
   ]
  },
  {
   "cell_type": "code",
   "execution_count": null,
   "id": "95602f1f-e661-4dba-b3a4-9a7e61c7a0c8",
   "metadata": {
    "tags": []
   },
   "outputs": [],
   "source": [
    "# # 제출 파일\n",
    "# cnt = 0\n",
    "# for i,(r,t,p) in tqdm(enumerate(predictions[96361-5:])):\n",
    "#     if test_df.iloc[i].isnull()['Temperature(C)']:\n",
    "#         test_df.loc[i,['Solar Radiance(w/m^2)','Temperature(C)','Solar Power(kW)']] = r,t,p\n",
    "#         sample = sample.append(test_df.iloc[i], ignore_index=True)"
   ]
  },
  {
   "cell_type": "code",
   "execution_count": 320,
   "id": "696a5002-6fb8-45b7-a979-330248ae0f73",
   "metadata": {},
   "outputs": [
    {
     "data": {
      "text/html": [
       "<div>\n",
       "<style scoped>\n",
       "    .dataframe tbody tr th:only-of-type {\n",
       "        vertical-align: middle;\n",
       "    }\n",
       "\n",
       "    .dataframe tbody tr th {\n",
       "        vertical-align: top;\n",
       "    }\n",
       "\n",
       "    .dataframe thead th {\n",
       "        text-align: right;\n",
       "    }\n",
       "</style>\n",
       "<table border=\"1\" class=\"dataframe\">\n",
       "  <thead>\n",
       "    <tr style=\"text-align: right;\">\n",
       "      <th></th>\n",
       "      <th>ID</th>\n",
       "      <th>Month</th>\n",
       "      <th>Day</th>\n",
       "      <th>Hour</th>\n",
       "      <th>Solar Radiance(w/m^2)</th>\n",
       "      <th>Temperature(C)</th>\n",
       "      <th>Solar Power(kW)</th>\n",
       "      <th>Year</th>\n",
       "    </tr>\n",
       "  </thead>\n",
       "  <tbody>\n",
       "    <tr>\n",
       "      <th>0</th>\n",
       "      <td>NaN</td>\n",
       "      <td>2</td>\n",
       "      <td>1</td>\n",
       "      <td>0</td>\n",
       "      <td>16.224218</td>\n",
       "      <td>13.759330</td>\n",
       "      <td>4.370647</td>\n",
       "      <td>2020</td>\n",
       "    </tr>\n",
       "    <tr>\n",
       "      <th>1</th>\n",
       "      <td>NaN</td>\n",
       "      <td>2</td>\n",
       "      <td>1</td>\n",
       "      <td>1</td>\n",
       "      <td>15.583576</td>\n",
       "      <td>13.249042</td>\n",
       "      <td>3.959789</td>\n",
       "      <td>2020</td>\n",
       "    </tr>\n",
       "    <tr>\n",
       "      <th>2</th>\n",
       "      <td>NaN</td>\n",
       "      <td>2</td>\n",
       "      <td>1</td>\n",
       "      <td>2</td>\n",
       "      <td>15.134786</td>\n",
       "      <td>12.842404</td>\n",
       "      <td>3.592353</td>\n",
       "      <td>2020</td>\n",
       "    </tr>\n",
       "    <tr>\n",
       "      <th>3</th>\n",
       "      <td>NaN</td>\n",
       "      <td>2</td>\n",
       "      <td>1</td>\n",
       "      <td>3</td>\n",
       "      <td>15.801853</td>\n",
       "      <td>12.505739</td>\n",
       "      <td>3.551673</td>\n",
       "      <td>2020</td>\n",
       "    </tr>\n",
       "    <tr>\n",
       "      <th>4</th>\n",
       "      <td>NaN</td>\n",
       "      <td>2</td>\n",
       "      <td>1</td>\n",
       "      <td>4</td>\n",
       "      <td>17.651140</td>\n",
       "      <td>12.219271</td>\n",
       "      <td>3.876907</td>\n",
       "      <td>2020</td>\n",
       "    </tr>\n",
       "    <tr>\n",
       "      <th>...</th>\n",
       "      <td>...</td>\n",
       "      <td>...</td>\n",
       "      <td>...</td>\n",
       "      <td>...</td>\n",
       "      <td>...</td>\n",
       "      <td>...</td>\n",
       "      <td>...</td>\n",
       "      <td>...</td>\n",
       "    </tr>\n",
       "    <tr>\n",
       "      <th>1843</th>\n",
       "      <td>NaN</td>\n",
       "      <td>12</td>\n",
       "      <td>7</td>\n",
       "      <td>19</td>\n",
       "      <td>21.905025</td>\n",
       "      <td>8.823795</td>\n",
       "      <td>5.414330</td>\n",
       "      <td>2020</td>\n",
       "    </tr>\n",
       "    <tr>\n",
       "      <th>1844</th>\n",
       "      <td>NaN</td>\n",
       "      <td>12</td>\n",
       "      <td>7</td>\n",
       "      <td>20</td>\n",
       "      <td>18.657352</td>\n",
       "      <td>8.588179</td>\n",
       "      <td>4.718915</td>\n",
       "      <td>2020</td>\n",
       "    </tr>\n",
       "    <tr>\n",
       "      <th>1845</th>\n",
       "      <td>NaN</td>\n",
       "      <td>12</td>\n",
       "      <td>7</td>\n",
       "      <td>21</td>\n",
       "      <td>17.569592</td>\n",
       "      <td>8.381631</td>\n",
       "      <td>4.505817</td>\n",
       "      <td>2020</td>\n",
       "    </tr>\n",
       "    <tr>\n",
       "      <th>1846</th>\n",
       "      <td>NaN</td>\n",
       "      <td>12</td>\n",
       "      <td>7</td>\n",
       "      <td>22</td>\n",
       "      <td>17.362999</td>\n",
       "      <td>8.182215</td>\n",
       "      <td>4.510054</td>\n",
       "      <td>2020</td>\n",
       "    </tr>\n",
       "    <tr>\n",
       "      <th>1847</th>\n",
       "      <td>NaN</td>\n",
       "      <td>12</td>\n",
       "      <td>7</td>\n",
       "      <td>23</td>\n",
       "      <td>17.743835</td>\n",
       "      <td>7.982325</td>\n",
       "      <td>4.665971</td>\n",
       "      <td>2020</td>\n",
       "    </tr>\n",
       "  </tbody>\n",
       "</table>\n",
       "<p>1848 rows × 8 columns</p>\n",
       "</div>"
      ],
      "text/plain": [
       "      ID Month Day Hour  Solar Radiance(w/m^2)  Temperature(C)  \\\n",
       "0    NaN     2   1    0              16.224218       13.759330   \n",
       "1    NaN     2   1    1              15.583576       13.249042   \n",
       "2    NaN     2   1    2              15.134786       12.842404   \n",
       "3    NaN     2   1    3              15.801853       12.505739   \n",
       "4    NaN     2   1    4              17.651140       12.219271   \n",
       "...   ..   ...  ..  ...                    ...             ...   \n",
       "1843 NaN    12   7   19              21.905025        8.823795   \n",
       "1844 NaN    12   7   20              18.657352        8.588179   \n",
       "1845 NaN    12   7   21              17.569592        8.381631   \n",
       "1846 NaN    12   7   22              17.362999        8.182215   \n",
       "1847 NaN    12   7   23              17.743835        7.982325   \n",
       "\n",
       "      Solar Power(kW)  Year  \n",
       "0            4.370647  2020  \n",
       "1            3.959789  2020  \n",
       "2            3.592353  2020  \n",
       "3            3.551673  2020  \n",
       "4            3.876907  2020  \n",
       "...               ...   ...  \n",
       "1843         5.414330  2020  \n",
       "1844         4.718915  2020  \n",
       "1845         4.505817  2020  \n",
       "1846         4.510054  2020  \n",
       "1847         4.665971  2020  \n",
       "\n",
       "[1848 rows x 8 columns]"
      ]
     },
     "execution_count": 320,
     "metadata": {},
     "output_type": "execute_result"
    }
   ],
   "source": [
    "sample"
   ]
  },
  {
   "cell_type": "code",
   "execution_count": null,
   "id": "cb4b2ae5-2752-44cb-9ebd-25bd559498e0",
   "metadata": {},
   "outputs": [],
   "source": [
    "test_df"
   ]
  },
  {
   "cell_type": "code",
   "execution_count": 321,
   "id": "f9bd8b9e-a3ca-44fe-8943-a9e2f861e906",
   "metadata": {},
   "outputs": [],
   "source": [
    "sample['ID'] = range(1848)\n",
    "# df.append(pd.Series(row, index=df.columns), ignore_index=True)\n",
    "# print_df(df6)"
   ]
  },
  {
   "cell_type": "code",
   "execution_count": 327,
   "id": "e47c26b7-4a57-44b1-95e8-7b31365ffb23",
   "metadata": {},
   "outputs": [
    {
     "data": {
      "text/html": [
       "<div>\n",
       "<style scoped>\n",
       "    .dataframe tbody tr th:only-of-type {\n",
       "        vertical-align: middle;\n",
       "    }\n",
       "\n",
       "    .dataframe tbody tr th {\n",
       "        vertical-align: top;\n",
       "    }\n",
       "\n",
       "    .dataframe thead th {\n",
       "        text-align: right;\n",
       "    }\n",
       "</style>\n",
       "<table border=\"1\" class=\"dataframe\">\n",
       "  <thead>\n",
       "    <tr style=\"text-align: right;\">\n",
       "      <th></th>\n",
       "      <th>ID</th>\n",
       "      <th>Solar Radiance(w/m^2)</th>\n",
       "      <th>Temperature(C)</th>\n",
       "      <th>Solar Power(kW)</th>\n",
       "    </tr>\n",
       "  </thead>\n",
       "  <tbody>\n",
       "    <tr>\n",
       "      <th>count</th>\n",
       "      <td>1848.000000</td>\n",
       "      <td>1848.000000</td>\n",
       "      <td>1848.000000</td>\n",
       "      <td>1848.000000</td>\n",
       "    </tr>\n",
       "    <tr>\n",
       "      <th>mean</th>\n",
       "      <td>923.500000</td>\n",
       "      <td>164.927207</td>\n",
       "      <td>23.315209</td>\n",
       "      <td>39.198679</td>\n",
       "    </tr>\n",
       "    <tr>\n",
       "      <th>std</th>\n",
       "      <td>533.615967</td>\n",
       "      <td>199.010581</td>\n",
       "      <td>9.575708</td>\n",
       "      <td>49.268018</td>\n",
       "    </tr>\n",
       "    <tr>\n",
       "      <th>min</th>\n",
       "      <td>0.000000</td>\n",
       "      <td>0.000000</td>\n",
       "      <td>7.287425</td>\n",
       "      <td>0.000000</td>\n",
       "    </tr>\n",
       "    <tr>\n",
       "      <th>25%</th>\n",
       "      <td>461.750000</td>\n",
       "      <td>18.196404</td>\n",
       "      <td>14.818636</td>\n",
       "      <td>2.983478</td>\n",
       "    </tr>\n",
       "    <tr>\n",
       "      <th>50%</th>\n",
       "      <td>923.500000</td>\n",
       "      <td>49.502104</td>\n",
       "      <td>23.236141</td>\n",
       "      <td>10.271639</td>\n",
       "    </tr>\n",
       "    <tr>\n",
       "      <th>75%</th>\n",
       "      <td>1385.250000</td>\n",
       "      <td>281.595589</td>\n",
       "      <td>31.081442</td>\n",
       "      <td>68.604841</td>\n",
       "    </tr>\n",
       "    <tr>\n",
       "      <th>max</th>\n",
       "      <td>1847.000000</td>\n",
       "      <td>733.248596</td>\n",
       "      <td>44.041733</td>\n",
       "      <td>185.017059</td>\n",
       "    </tr>\n",
       "  </tbody>\n",
       "</table>\n",
       "</div>"
      ],
      "text/plain": [
       "                ID  Solar Radiance(w/m^2)  Temperature(C)  Solar Power(kW)\n",
       "count  1848.000000            1848.000000     1848.000000      1848.000000\n",
       "mean    923.500000             164.927207       23.315209        39.198679\n",
       "std     533.615967             199.010581        9.575708        49.268018\n",
       "min       0.000000               0.000000        7.287425         0.000000\n",
       "25%     461.750000              18.196404       14.818636         2.983478\n",
       "50%     923.500000              49.502104       23.236141        10.271639\n",
       "75%    1385.250000             281.595589       31.081442        68.604841\n",
       "max    1847.000000             733.248596       44.041733       185.017059"
      ]
     },
     "execution_count": 327,
     "metadata": {},
     "output_type": "execute_result"
    }
   ],
   "source": [
    "sample.describe()"
   ]
  },
  {
   "cell_type": "code",
   "execution_count": 326,
   "id": "3ff07edc-ac0c-45ce-8782-e3573d7d0cdc",
   "metadata": {},
   "outputs": [],
   "source": [
    "sample.loc[sample['Solar Radiance(w/m^2)']<0,'Solar Radiance(w/m^2)'] = 0\n",
    "sample.loc[sample['Solar Power(kW)']<0,'Solar Power(kW)'] = 0"
   ]
  },
  {
   "cell_type": "code",
   "execution_count": 323,
   "id": "75b7137b-2e6f-45e8-acf7-1dfe71dcf655",
   "metadata": {
    "tags": []
   },
   "outputs": [],
   "source": [
    "del sample['Year']"
   ]
  },
  {
   "cell_type": "code",
   "execution_count": 328,
   "id": "9dd4d80f-1bdb-4371-b916-e6e698e84901",
   "metadata": {},
   "outputs": [],
   "source": [
    "# sample"
   ]
  },
  {
   "cell_type": "code",
   "execution_count": 329,
   "id": "9afa965e-a7b6-45e6-ad29-36221d0eba27",
   "metadata": {},
   "outputs": [],
   "source": [
    "sample.to_csv('./prediction2.csv', index=False)"
   ]
  }
 ],
 "metadata": {
  "kernelspec": {
   "display_name": "Python 3 (ipykernel)",
   "language": "python",
   "name": "python3"
  },
  "language_info": {
   "codemirror_mode": {
    "name": "ipython",
    "version": 3
   },
   "file_extension": ".py",
   "mimetype": "text/x-python",
   "name": "python",
   "nbconvert_exporter": "python",
   "pygments_lexer": "ipython3",
   "version": "3.8.5"
  }
 },
 "nbformat": 4,
 "nbformat_minor": 5
}
